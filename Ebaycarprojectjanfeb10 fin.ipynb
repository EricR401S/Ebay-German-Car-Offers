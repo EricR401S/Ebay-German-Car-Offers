{
 "cells": [
  {
   "cell_type": "markdown",
   "metadata": {
    "collapsed": true
   },
   "source": [
    "# <center> The top brands amongst used cars on Ebay for Germans <center>\n",
    "\n",
    " \n",
    "## <center> Introduction <center>\n",
    "\n",
    "#### The [dataset](https://data.world/data-society/used-cars-data) was pulled by user \"orgeleska\". Said set focused on used car data from the Ebay site, targeted towards Germans. The objective is to identify the overall registration year of the cars, the time during which these cars were sold, the most frequent brands, as well as their price and mileage. Within the most frequent brands, it would be best to focus on the ones who make up the most of the used car pool.\n",
    " \n",
    "\n",
    "## <center> Summary of Results <center>\n",
    "\n",
    "#### The cars were sold from 2015 to April 2016. The selling period spiked mostly during March 2016 and peaked at its highest during April 6th, then the 7th and 5th of the same year. In terms of the registration year, 58% of used cars are from the 2000s, with the remainder dating mostly to 1999 and older. As for the car brands, the most recurring brands were \"volkswagen\" (21% of the pool), \"bmw\", \"mercedes_benz\", \"opel\", \"audi\", \"ford\". These top 6 brands totaled over 60% of the used car pool. Lastly, the car's mileage was moderately high as well as their mean registration year, 12 to 14 years old. However, their prices were much more telling about the behavior of the top most frequent brands. The low end was occupied by the \"opel\"at 3,394. The high end was near the 10,000 euro mark with the \"audi\", \"bmw\", and \"mercedez_benz\", while the much more frequent \"volkswagen\" was at a mean of 6,000 euros. The prices were very spread out, but generally expensive."
   ]
  },
  {
   "cell_type": "markdown",
   "metadata": {},
   "source": [
    "## <center> Process <center>"
   ]
  },
  {
   "cell_type": "markdown",
   "metadata": {},
   "source": [
    "### 1. Reading and learning the file"
   ]
  },
  {
   "cell_type": "code",
   "execution_count": 27,
   "metadata": {
    "collapsed": false
   },
   "outputs": [],
   "source": [
    "import pandas as pd\n",
    "\n",
    "autos = (pd.read_csv('autos.csv',  \n",
    "                    encoding = 'Latin-1')\n",
    "                    )#Didn't run with UTF-8\n",
    "\n"
   ]
  },
  {
   "cell_type": "code",
   "execution_count": 28,
   "metadata": {
    "collapsed": false
   },
   "outputs": [
    {
     "data": {
      "text/html": [
       "<div>\n",
       "<style scoped>\n",
       "    .dataframe tbody tr th:only-of-type {\n",
       "        vertical-align: middle;\n",
       "    }\n",
       "\n",
       "    .dataframe tbody tr th {\n",
       "        vertical-align: top;\n",
       "    }\n",
       "\n",
       "    .dataframe thead th {\n",
       "        text-align: right;\n",
       "    }\n",
       "</style>\n",
       "<table border=\"1\" class=\"dataframe\">\n",
       "  <thead>\n",
       "    <tr style=\"text-align: right;\">\n",
       "      <th></th>\n",
       "      <th>dateCrawled</th>\n",
       "      <th>name</th>\n",
       "      <th>seller</th>\n",
       "      <th>offerType</th>\n",
       "      <th>price</th>\n",
       "      <th>abtest</th>\n",
       "      <th>vehicleType</th>\n",
       "      <th>yearOfRegistration</th>\n",
       "      <th>gearbox</th>\n",
       "      <th>powerPS</th>\n",
       "      <th>model</th>\n",
       "      <th>odometer</th>\n",
       "      <th>monthOfRegistration</th>\n",
       "      <th>fuelType</th>\n",
       "      <th>brand</th>\n",
       "      <th>notRepairedDamage</th>\n",
       "      <th>dateCreated</th>\n",
       "      <th>nrOfPictures</th>\n",
       "      <th>postalCode</th>\n",
       "      <th>lastSeen</th>\n",
       "    </tr>\n",
       "  </thead>\n",
       "  <tbody>\n",
       "    <tr>\n",
       "      <th>0</th>\n",
       "      <td>2016-03-26 17:47:46</td>\n",
       "      <td>Peugeot_807_160_NAVTECH_ON_BOARD</td>\n",
       "      <td>privat</td>\n",
       "      <td>Angebot</td>\n",
       "      <td>$5,000</td>\n",
       "      <td>control</td>\n",
       "      <td>bus</td>\n",
       "      <td>2004</td>\n",
       "      <td>manuell</td>\n",
       "      <td>158</td>\n",
       "      <td>andere</td>\n",
       "      <td>150,000km</td>\n",
       "      <td>3</td>\n",
       "      <td>lpg</td>\n",
       "      <td>peugeot</td>\n",
       "      <td>nein</td>\n",
       "      <td>2016-03-26 00:00:00</td>\n",
       "      <td>0</td>\n",
       "      <td>79588</td>\n",
       "      <td>2016-04-06 06:45:54</td>\n",
       "    </tr>\n",
       "    <tr>\n",
       "      <th>1</th>\n",
       "      <td>2016-04-04 13:38:56</td>\n",
       "      <td>BMW_740i_4_4_Liter_HAMANN_UMBAU_Mega_Optik</td>\n",
       "      <td>privat</td>\n",
       "      <td>Angebot</td>\n",
       "      <td>$8,500</td>\n",
       "      <td>control</td>\n",
       "      <td>limousine</td>\n",
       "      <td>1997</td>\n",
       "      <td>automatik</td>\n",
       "      <td>286</td>\n",
       "      <td>7er</td>\n",
       "      <td>150,000km</td>\n",
       "      <td>6</td>\n",
       "      <td>benzin</td>\n",
       "      <td>bmw</td>\n",
       "      <td>nein</td>\n",
       "      <td>2016-04-04 00:00:00</td>\n",
       "      <td>0</td>\n",
       "      <td>71034</td>\n",
       "      <td>2016-04-06 14:45:08</td>\n",
       "    </tr>\n",
       "    <tr>\n",
       "      <th>2</th>\n",
       "      <td>2016-03-26 18:57:24</td>\n",
       "      <td>Volkswagen_Golf_1.6_United</td>\n",
       "      <td>privat</td>\n",
       "      <td>Angebot</td>\n",
       "      <td>$8,990</td>\n",
       "      <td>test</td>\n",
       "      <td>limousine</td>\n",
       "      <td>2009</td>\n",
       "      <td>manuell</td>\n",
       "      <td>102</td>\n",
       "      <td>golf</td>\n",
       "      <td>70,000km</td>\n",
       "      <td>7</td>\n",
       "      <td>benzin</td>\n",
       "      <td>volkswagen</td>\n",
       "      <td>nein</td>\n",
       "      <td>2016-03-26 00:00:00</td>\n",
       "      <td>0</td>\n",
       "      <td>35394</td>\n",
       "      <td>2016-04-06 20:15:37</td>\n",
       "    </tr>\n",
       "    <tr>\n",
       "      <th>3</th>\n",
       "      <td>2016-03-12 16:58:10</td>\n",
       "      <td>Smart_smart_fortwo_coupe_softouch/F1/Klima/Pan...</td>\n",
       "      <td>privat</td>\n",
       "      <td>Angebot</td>\n",
       "      <td>$4,350</td>\n",
       "      <td>control</td>\n",
       "      <td>kleinwagen</td>\n",
       "      <td>2007</td>\n",
       "      <td>automatik</td>\n",
       "      <td>71</td>\n",
       "      <td>fortwo</td>\n",
       "      <td>70,000km</td>\n",
       "      <td>6</td>\n",
       "      <td>benzin</td>\n",
       "      <td>smart</td>\n",
       "      <td>nein</td>\n",
       "      <td>2016-03-12 00:00:00</td>\n",
       "      <td>0</td>\n",
       "      <td>33729</td>\n",
       "      <td>2016-03-15 03:16:28</td>\n",
       "    </tr>\n",
       "    <tr>\n",
       "      <th>4</th>\n",
       "      <td>2016-04-01 14:38:50</td>\n",
       "      <td>Ford_Focus_1_6_Benzin_TÜV_neu_ist_sehr_gepfleg...</td>\n",
       "      <td>privat</td>\n",
       "      <td>Angebot</td>\n",
       "      <td>$1,350</td>\n",
       "      <td>test</td>\n",
       "      <td>kombi</td>\n",
       "      <td>2003</td>\n",
       "      <td>manuell</td>\n",
       "      <td>0</td>\n",
       "      <td>focus</td>\n",
       "      <td>150,000km</td>\n",
       "      <td>7</td>\n",
       "      <td>benzin</td>\n",
       "      <td>ford</td>\n",
       "      <td>nein</td>\n",
       "      <td>2016-04-01 00:00:00</td>\n",
       "      <td>0</td>\n",
       "      <td>39218</td>\n",
       "      <td>2016-04-01 14:38:50</td>\n",
       "    </tr>\n",
       "  </tbody>\n",
       "</table>\n",
       "</div>"
      ],
      "text/plain": [
       "           dateCrawled                                               name  \\\n",
       "0  2016-03-26 17:47:46                   Peugeot_807_160_NAVTECH_ON_BOARD   \n",
       "1  2016-04-04 13:38:56         BMW_740i_4_4_Liter_HAMANN_UMBAU_Mega_Optik   \n",
       "2  2016-03-26 18:57:24                         Volkswagen_Golf_1.6_United   \n",
       "3  2016-03-12 16:58:10  Smart_smart_fortwo_coupe_softouch/F1/Klima/Pan...   \n",
       "4  2016-04-01 14:38:50  Ford_Focus_1_6_Benzin_TÜV_neu_ist_sehr_gepfleg...   \n",
       "\n",
       "   seller offerType   price   abtest vehicleType  yearOfRegistration  \\\n",
       "0  privat   Angebot  $5,000  control         bus                2004   \n",
       "1  privat   Angebot  $8,500  control   limousine                1997   \n",
       "2  privat   Angebot  $8,990     test   limousine                2009   \n",
       "3  privat   Angebot  $4,350  control  kleinwagen                2007   \n",
       "4  privat   Angebot  $1,350     test       kombi                2003   \n",
       "\n",
       "     gearbox  powerPS   model   odometer  monthOfRegistration fuelType  \\\n",
       "0    manuell      158  andere  150,000km                    3      lpg   \n",
       "1  automatik      286     7er  150,000km                    6   benzin   \n",
       "2    manuell      102    golf   70,000km                    7   benzin   \n",
       "3  automatik       71  fortwo   70,000km                    6   benzin   \n",
       "4    manuell        0   focus  150,000km                    7   benzin   \n",
       "\n",
       "        brand notRepairedDamage          dateCreated  nrOfPictures  \\\n",
       "0     peugeot              nein  2016-03-26 00:00:00             0   \n",
       "1         bmw              nein  2016-04-04 00:00:00             0   \n",
       "2  volkswagen              nein  2016-03-26 00:00:00             0   \n",
       "3       smart              nein  2016-03-12 00:00:00             0   \n",
       "4        ford              nein  2016-04-01 00:00:00             0   \n",
       "\n",
       "   postalCode             lastSeen  \n",
       "0       79588  2016-04-06 06:45:54  \n",
       "1       71034  2016-04-06 14:45:08  \n",
       "2       35394  2016-04-06 20:15:37  \n",
       "3       33729  2016-03-15 03:16:28  \n",
       "4       39218  2016-04-01 14:38:50  "
      ]
     },
     "execution_count": 28,
     "metadata": {},
     "output_type": "execute_result"
    }
   ],
   "source": [
    "#For a quick view of the records\n",
    "\n",
    "autos.head()"
   ]
  },
  {
   "cell_type": "code",
   "execution_count": 29,
   "metadata": {
    "collapsed": false
   },
   "outputs": [
    {
     "name": "stdout",
     "output_type": "stream",
     "text": [
      "<class 'pandas.core.frame.DataFrame'>\n",
      "RangeIndex: 50000 entries, 0 to 49999\n",
      "Data columns (total 20 columns):\n",
      "dateCrawled            50000 non-null object\n",
      "name                   50000 non-null object\n",
      "seller                 50000 non-null object\n",
      "offerType              50000 non-null object\n",
      "price                  50000 non-null object\n",
      "abtest                 50000 non-null object\n",
      "vehicleType            44905 non-null object\n",
      "yearOfRegistration     50000 non-null int64\n",
      "gearbox                47320 non-null object\n",
      "powerPS                50000 non-null int64\n",
      "model                  47242 non-null object\n",
      "odometer               50000 non-null object\n",
      "monthOfRegistration    50000 non-null int64\n",
      "fuelType               45518 non-null object\n",
      "brand                  50000 non-null object\n",
      "notRepairedDamage      40171 non-null object\n",
      "dateCreated            50000 non-null object\n",
      "nrOfPictures           50000 non-null int64\n",
      "postalCode             50000 non-null int64\n",
      "lastSeen               50000 non-null object\n",
      "dtypes: int64(5), object(15)\n",
      "memory usage: 7.6+ MB\n"
     ]
    }
   ],
   "source": [
    "#Overview of file itself\n",
    "\n",
    "autos.info()\n"
   ]
  },
  {
   "cell_type": "code",
   "execution_count": 30,
   "metadata": {
    "collapsed": false
   },
   "outputs": [
    {
     "name": "stdout",
     "output_type": "stream",
     "text": [
      "The minimum loss is 95.\n",
      "\n",
      "\n",
      "The maximum loss is 80.\n"
     ]
    }
   ],
   "source": [
    "#Finding the minimum and maximum null data loss\n",
    "\n",
    "print(\"The minimum loss is \" + str(round(47320/50000*100)) + '.')\n",
    "print('\\n')\n",
    "print(\"The maximum loss is \" + str(round(40171/50000*100)) +'.')\n"
   ]
  },
  {
   "cell_type": "markdown",
   "metadata": {},
   "source": [
    "#### There is an overall total of 50,000 rows and 20 columns. Said columns' datatypes are subdivided into 5 of int64 and 15 of object. However, some cleaning and conversions may be necessary. Depending on the needs, \"datecrawled\", \"price\", \"odometer\", \"lastSeen\", and \"dateCreated\" can be converted to numeric fields, for a total of five columns. In addition, rows had null fields in the columns of \"vehicleType\", \"gearbox\", \"model\", \"fuelType\" and \"notRepairedDamage\". Said null fields present a data loss from roughly 5% to a maximum of 20%."
   ]
  },
  {
   "cell_type": "markdown",
   "metadata": {},
   "source": [
    "### 2. Cleaning the column names"
   ]
  },
  {
   "cell_type": "code",
   "execution_count": 31,
   "metadata": {
    "collapsed": false
   },
   "outputs": [
    {
     "data": {
      "text/plain": [
       "Index(['dateCrawled', 'name', 'seller', 'offerType', 'price', 'abtest',\n",
       "       'vehicleType', 'yearOfRegistration', 'gearbox', 'powerPS', 'model',\n",
       "       'odometer', 'monthOfRegistration', 'fuelType', 'brand',\n",
       "       'notRepairedDamage', 'dateCreated', 'nrOfPictures', 'postalCode',\n",
       "       'lastSeen'],\n",
       "      dtype='object')"
      ]
     },
     "execution_count": 31,
     "metadata": {},
     "output_type": "execute_result"
    }
   ],
   "source": [
    "#Viewing the values to fix\n",
    "\n",
    "autos.columns"
   ]
  },
  {
   "cell_type": "code",
   "execution_count": 32,
   "metadata": {
    "collapsed": false
   },
   "outputs": [
    {
     "data": {
      "text/html": [
       "<div>\n",
       "<style scoped>\n",
       "    .dataframe tbody tr th:only-of-type {\n",
       "        vertical-align: middle;\n",
       "    }\n",
       "\n",
       "    .dataframe tbody tr th {\n",
       "        vertical-align: top;\n",
       "    }\n",
       "\n",
       "    .dataframe thead th {\n",
       "        text-align: right;\n",
       "    }\n",
       "</style>\n",
       "<table border=\"1\" class=\"dataframe\">\n",
       "  <thead>\n",
       "    <tr style=\"text-align: right;\">\n",
       "      <th></th>\n",
       "      <th>date_crawled</th>\n",
       "      <th>name</th>\n",
       "      <th>seller</th>\n",
       "      <th>offer_type</th>\n",
       "      <th>price</th>\n",
       "      <th>abtest</th>\n",
       "      <th>vehicle_type</th>\n",
       "      <th>registration_year</th>\n",
       "      <th>gearbox</th>\n",
       "      <th>powerPS</th>\n",
       "      <th>model</th>\n",
       "      <th>odometer</th>\n",
       "      <th>registration_month</th>\n",
       "      <th>fuel_type</th>\n",
       "      <th>brand</th>\n",
       "      <th>unrepaired_damage</th>\n",
       "      <th>ad_created</th>\n",
       "      <th>nr_of_pictures</th>\n",
       "      <th>postal_code</th>\n",
       "      <th>last_seen</th>\n",
       "    </tr>\n",
       "  </thead>\n",
       "  <tbody>\n",
       "    <tr>\n",
       "      <th>0</th>\n",
       "      <td>2016-03-26 17:47:46</td>\n",
       "      <td>Peugeot_807_160_NAVTECH_ON_BOARD</td>\n",
       "      <td>privat</td>\n",
       "      <td>Angebot</td>\n",
       "      <td>$5,000</td>\n",
       "      <td>control</td>\n",
       "      <td>bus</td>\n",
       "      <td>2004</td>\n",
       "      <td>manuell</td>\n",
       "      <td>158</td>\n",
       "      <td>andere</td>\n",
       "      <td>150,000km</td>\n",
       "      <td>3</td>\n",
       "      <td>lpg</td>\n",
       "      <td>peugeot</td>\n",
       "      <td>nein</td>\n",
       "      <td>2016-03-26 00:00:00</td>\n",
       "      <td>0</td>\n",
       "      <td>79588</td>\n",
       "      <td>2016-04-06 06:45:54</td>\n",
       "    </tr>\n",
       "    <tr>\n",
       "      <th>1</th>\n",
       "      <td>2016-04-04 13:38:56</td>\n",
       "      <td>BMW_740i_4_4_Liter_HAMANN_UMBAU_Mega_Optik</td>\n",
       "      <td>privat</td>\n",
       "      <td>Angebot</td>\n",
       "      <td>$8,500</td>\n",
       "      <td>control</td>\n",
       "      <td>limousine</td>\n",
       "      <td>1997</td>\n",
       "      <td>automatik</td>\n",
       "      <td>286</td>\n",
       "      <td>7er</td>\n",
       "      <td>150,000km</td>\n",
       "      <td>6</td>\n",
       "      <td>benzin</td>\n",
       "      <td>bmw</td>\n",
       "      <td>nein</td>\n",
       "      <td>2016-04-04 00:00:00</td>\n",
       "      <td>0</td>\n",
       "      <td>71034</td>\n",
       "      <td>2016-04-06 14:45:08</td>\n",
       "    </tr>\n",
       "    <tr>\n",
       "      <th>2</th>\n",
       "      <td>2016-03-26 18:57:24</td>\n",
       "      <td>Volkswagen_Golf_1.6_United</td>\n",
       "      <td>privat</td>\n",
       "      <td>Angebot</td>\n",
       "      <td>$8,990</td>\n",
       "      <td>test</td>\n",
       "      <td>limousine</td>\n",
       "      <td>2009</td>\n",
       "      <td>manuell</td>\n",
       "      <td>102</td>\n",
       "      <td>golf</td>\n",
       "      <td>70,000km</td>\n",
       "      <td>7</td>\n",
       "      <td>benzin</td>\n",
       "      <td>volkswagen</td>\n",
       "      <td>nein</td>\n",
       "      <td>2016-03-26 00:00:00</td>\n",
       "      <td>0</td>\n",
       "      <td>35394</td>\n",
       "      <td>2016-04-06 20:15:37</td>\n",
       "    </tr>\n",
       "    <tr>\n",
       "      <th>3</th>\n",
       "      <td>2016-03-12 16:58:10</td>\n",
       "      <td>Smart_smart_fortwo_coupe_softouch/F1/Klima/Pan...</td>\n",
       "      <td>privat</td>\n",
       "      <td>Angebot</td>\n",
       "      <td>$4,350</td>\n",
       "      <td>control</td>\n",
       "      <td>kleinwagen</td>\n",
       "      <td>2007</td>\n",
       "      <td>automatik</td>\n",
       "      <td>71</td>\n",
       "      <td>fortwo</td>\n",
       "      <td>70,000km</td>\n",
       "      <td>6</td>\n",
       "      <td>benzin</td>\n",
       "      <td>smart</td>\n",
       "      <td>nein</td>\n",
       "      <td>2016-03-12 00:00:00</td>\n",
       "      <td>0</td>\n",
       "      <td>33729</td>\n",
       "      <td>2016-03-15 03:16:28</td>\n",
       "    </tr>\n",
       "    <tr>\n",
       "      <th>4</th>\n",
       "      <td>2016-04-01 14:38:50</td>\n",
       "      <td>Ford_Focus_1_6_Benzin_TÜV_neu_ist_sehr_gepfleg...</td>\n",
       "      <td>privat</td>\n",
       "      <td>Angebot</td>\n",
       "      <td>$1,350</td>\n",
       "      <td>test</td>\n",
       "      <td>kombi</td>\n",
       "      <td>2003</td>\n",
       "      <td>manuell</td>\n",
       "      <td>0</td>\n",
       "      <td>focus</td>\n",
       "      <td>150,000km</td>\n",
       "      <td>7</td>\n",
       "      <td>benzin</td>\n",
       "      <td>ford</td>\n",
       "      <td>nein</td>\n",
       "      <td>2016-04-01 00:00:00</td>\n",
       "      <td>0</td>\n",
       "      <td>39218</td>\n",
       "      <td>2016-04-01 14:38:50</td>\n",
       "    </tr>\n",
       "  </tbody>\n",
       "</table>\n",
       "</div>"
      ],
      "text/plain": [
       "          date_crawled                                               name  \\\n",
       "0  2016-03-26 17:47:46                   Peugeot_807_160_NAVTECH_ON_BOARD   \n",
       "1  2016-04-04 13:38:56         BMW_740i_4_4_Liter_HAMANN_UMBAU_Mega_Optik   \n",
       "2  2016-03-26 18:57:24                         Volkswagen_Golf_1.6_United   \n",
       "3  2016-03-12 16:58:10  Smart_smart_fortwo_coupe_softouch/F1/Klima/Pan...   \n",
       "4  2016-04-01 14:38:50  Ford_Focus_1_6_Benzin_TÜV_neu_ist_sehr_gepfleg...   \n",
       "\n",
       "   seller offer_type   price   abtest vehicle_type  registration_year  \\\n",
       "0  privat    Angebot  $5,000  control          bus               2004   \n",
       "1  privat    Angebot  $8,500  control    limousine               1997   \n",
       "2  privat    Angebot  $8,990     test    limousine               2009   \n",
       "3  privat    Angebot  $4,350  control   kleinwagen               2007   \n",
       "4  privat    Angebot  $1,350     test        kombi               2003   \n",
       "\n",
       "     gearbox  powerPS   model   odometer  registration_month fuel_type  \\\n",
       "0    manuell      158  andere  150,000km                   3       lpg   \n",
       "1  automatik      286     7er  150,000km                   6    benzin   \n",
       "2    manuell      102    golf   70,000km                   7    benzin   \n",
       "3  automatik       71  fortwo   70,000km                   6    benzin   \n",
       "4    manuell        0   focus  150,000km                   7    benzin   \n",
       "\n",
       "        brand unrepaired_damage           ad_created  nr_of_pictures  \\\n",
       "0     peugeot              nein  2016-03-26 00:00:00               0   \n",
       "1         bmw              nein  2016-04-04 00:00:00               0   \n",
       "2  volkswagen              nein  2016-03-26 00:00:00               0   \n",
       "3       smart              nein  2016-03-12 00:00:00               0   \n",
       "4        ford              nein  2016-04-01 00:00:00               0   \n",
       "\n",
       "   postal_code            last_seen  \n",
       "0        79588  2016-04-06 06:45:54  \n",
       "1        71034  2016-04-06 14:45:08  \n",
       "2        35394  2016-04-06 20:15:37  \n",
       "3        33729  2016-03-15 03:16:28  \n",
       "4        39218  2016-04-01 14:38:50  "
      ]
     },
     "execution_count": 32,
     "metadata": {},
     "output_type": "execute_result"
    }
   ],
   "source": [
    "col_name_corrections = [\n",
    "    'date_crawled', \n",
    "    'name', \n",
    "    'seller', \n",
    "    'offer_type',\n",
    "    'price',\n",
    "    'abtest',\n",
    "    'vehicle_type', \n",
    "    'registration_year',\n",
    "    'gearbox', \n",
    "    'powerPS',\n",
    "    'model',\n",
    "    'odometer', \n",
    "    'registration_month',\n",
    "    'fuel_type',\n",
    "    'brand',\n",
    "    'unrepaired_damage', \n",
    "    'ad_created', \n",
    "    'nr_of_pictures',\n",
    "    'postal_code',\n",
    "    'last_seen']\n",
    "\n",
    "autos.columns = col_name_corrections\n",
    "\n",
    "#To view and validate corrections\n",
    "autos.head()"
   ]
  },
  {
   "cell_type": "markdown",
   "metadata": {
    "collapsed": false
   },
   "source": [
    "#### The reason for changing from camelcase to snakecase was to facilitate the readability of the column names. "
   ]
  },
  {
   "cell_type": "code",
   "execution_count": 33,
   "metadata": {
    "collapsed": false
   },
   "outputs": [
    {
     "data": {
      "text/html": [
       "<div>\n",
       "<style scoped>\n",
       "    .dataframe tbody tr th:only-of-type {\n",
       "        vertical-align: middle;\n",
       "    }\n",
       "\n",
       "    .dataframe tbody tr th {\n",
       "        vertical-align: top;\n",
       "    }\n",
       "\n",
       "    .dataframe thead th {\n",
       "        text-align: right;\n",
       "    }\n",
       "</style>\n",
       "<table border=\"1\" class=\"dataframe\">\n",
       "  <thead>\n",
       "    <tr style=\"text-align: right;\">\n",
       "      <th></th>\n",
       "      <th>date_crawled</th>\n",
       "      <th>name</th>\n",
       "      <th>seller</th>\n",
       "      <th>offer_type</th>\n",
       "      <th>price</th>\n",
       "      <th>abtest</th>\n",
       "      <th>vehicle_type</th>\n",
       "      <th>registration_year</th>\n",
       "      <th>gearbox</th>\n",
       "      <th>powerPS</th>\n",
       "      <th>model</th>\n",
       "      <th>odometer</th>\n",
       "      <th>registration_month</th>\n",
       "      <th>fuel_type</th>\n",
       "      <th>brand</th>\n",
       "      <th>unrepaired_damage</th>\n",
       "      <th>ad_created</th>\n",
       "      <th>nr_of_pictures</th>\n",
       "      <th>postal_code</th>\n",
       "      <th>last_seen</th>\n",
       "    </tr>\n",
       "  </thead>\n",
       "  <tbody>\n",
       "    <tr>\n",
       "      <th>count</th>\n",
       "      <td>50000</td>\n",
       "      <td>50000</td>\n",
       "      <td>50000</td>\n",
       "      <td>50000</td>\n",
       "      <td>50000</td>\n",
       "      <td>50000</td>\n",
       "      <td>44905</td>\n",
       "      <td>50000.000000</td>\n",
       "      <td>47320</td>\n",
       "      <td>50000.000000</td>\n",
       "      <td>47242</td>\n",
       "      <td>50000</td>\n",
       "      <td>50000.000000</td>\n",
       "      <td>45518</td>\n",
       "      <td>50000</td>\n",
       "      <td>40171</td>\n",
       "      <td>50000</td>\n",
       "      <td>50000.0</td>\n",
       "      <td>50000.000000</td>\n",
       "      <td>50000</td>\n",
       "    </tr>\n",
       "    <tr>\n",
       "      <th>unique</th>\n",
       "      <td>48213</td>\n",
       "      <td>38754</td>\n",
       "      <td>2</td>\n",
       "      <td>2</td>\n",
       "      <td>2357</td>\n",
       "      <td>2</td>\n",
       "      <td>8</td>\n",
       "      <td>NaN</td>\n",
       "      <td>2</td>\n",
       "      <td>NaN</td>\n",
       "      <td>245</td>\n",
       "      <td>13</td>\n",
       "      <td>NaN</td>\n",
       "      <td>7</td>\n",
       "      <td>40</td>\n",
       "      <td>2</td>\n",
       "      <td>76</td>\n",
       "      <td>NaN</td>\n",
       "      <td>NaN</td>\n",
       "      <td>39481</td>\n",
       "    </tr>\n",
       "    <tr>\n",
       "      <th>top</th>\n",
       "      <td>2016-03-08 10:40:35</td>\n",
       "      <td>Ford_Fiesta</td>\n",
       "      <td>privat</td>\n",
       "      <td>Angebot</td>\n",
       "      <td>$0</td>\n",
       "      <td>test</td>\n",
       "      <td>limousine</td>\n",
       "      <td>NaN</td>\n",
       "      <td>manuell</td>\n",
       "      <td>NaN</td>\n",
       "      <td>golf</td>\n",
       "      <td>150,000km</td>\n",
       "      <td>NaN</td>\n",
       "      <td>benzin</td>\n",
       "      <td>volkswagen</td>\n",
       "      <td>nein</td>\n",
       "      <td>2016-04-03 00:00:00</td>\n",
       "      <td>NaN</td>\n",
       "      <td>NaN</td>\n",
       "      <td>2016-04-07 06:17:27</td>\n",
       "    </tr>\n",
       "    <tr>\n",
       "      <th>freq</th>\n",
       "      <td>3</td>\n",
       "      <td>78</td>\n",
       "      <td>49999</td>\n",
       "      <td>49999</td>\n",
       "      <td>1421</td>\n",
       "      <td>25756</td>\n",
       "      <td>12859</td>\n",
       "      <td>NaN</td>\n",
       "      <td>36993</td>\n",
       "      <td>NaN</td>\n",
       "      <td>4024</td>\n",
       "      <td>32424</td>\n",
       "      <td>NaN</td>\n",
       "      <td>30107</td>\n",
       "      <td>10687</td>\n",
       "      <td>35232</td>\n",
       "      <td>1946</td>\n",
       "      <td>NaN</td>\n",
       "      <td>NaN</td>\n",
       "      <td>8</td>\n",
       "    </tr>\n",
       "    <tr>\n",
       "      <th>mean</th>\n",
       "      <td>NaN</td>\n",
       "      <td>NaN</td>\n",
       "      <td>NaN</td>\n",
       "      <td>NaN</td>\n",
       "      <td>NaN</td>\n",
       "      <td>NaN</td>\n",
       "      <td>NaN</td>\n",
       "      <td>2005.073280</td>\n",
       "      <td>NaN</td>\n",
       "      <td>116.355920</td>\n",
       "      <td>NaN</td>\n",
       "      <td>NaN</td>\n",
       "      <td>5.723360</td>\n",
       "      <td>NaN</td>\n",
       "      <td>NaN</td>\n",
       "      <td>NaN</td>\n",
       "      <td>NaN</td>\n",
       "      <td>0.0</td>\n",
       "      <td>50813.627300</td>\n",
       "      <td>NaN</td>\n",
       "    </tr>\n",
       "    <tr>\n",
       "      <th>std</th>\n",
       "      <td>NaN</td>\n",
       "      <td>NaN</td>\n",
       "      <td>NaN</td>\n",
       "      <td>NaN</td>\n",
       "      <td>NaN</td>\n",
       "      <td>NaN</td>\n",
       "      <td>NaN</td>\n",
       "      <td>105.712813</td>\n",
       "      <td>NaN</td>\n",
       "      <td>209.216627</td>\n",
       "      <td>NaN</td>\n",
       "      <td>NaN</td>\n",
       "      <td>3.711984</td>\n",
       "      <td>NaN</td>\n",
       "      <td>NaN</td>\n",
       "      <td>NaN</td>\n",
       "      <td>NaN</td>\n",
       "      <td>0.0</td>\n",
       "      <td>25779.747957</td>\n",
       "      <td>NaN</td>\n",
       "    </tr>\n",
       "    <tr>\n",
       "      <th>min</th>\n",
       "      <td>NaN</td>\n",
       "      <td>NaN</td>\n",
       "      <td>NaN</td>\n",
       "      <td>NaN</td>\n",
       "      <td>NaN</td>\n",
       "      <td>NaN</td>\n",
       "      <td>NaN</td>\n",
       "      <td>1000.000000</td>\n",
       "      <td>NaN</td>\n",
       "      <td>0.000000</td>\n",
       "      <td>NaN</td>\n",
       "      <td>NaN</td>\n",
       "      <td>0.000000</td>\n",
       "      <td>NaN</td>\n",
       "      <td>NaN</td>\n",
       "      <td>NaN</td>\n",
       "      <td>NaN</td>\n",
       "      <td>0.0</td>\n",
       "      <td>1067.000000</td>\n",
       "      <td>NaN</td>\n",
       "    </tr>\n",
       "    <tr>\n",
       "      <th>25%</th>\n",
       "      <td>NaN</td>\n",
       "      <td>NaN</td>\n",
       "      <td>NaN</td>\n",
       "      <td>NaN</td>\n",
       "      <td>NaN</td>\n",
       "      <td>NaN</td>\n",
       "      <td>NaN</td>\n",
       "      <td>1999.000000</td>\n",
       "      <td>NaN</td>\n",
       "      <td>70.000000</td>\n",
       "      <td>NaN</td>\n",
       "      <td>NaN</td>\n",
       "      <td>3.000000</td>\n",
       "      <td>NaN</td>\n",
       "      <td>NaN</td>\n",
       "      <td>NaN</td>\n",
       "      <td>NaN</td>\n",
       "      <td>0.0</td>\n",
       "      <td>30451.000000</td>\n",
       "      <td>NaN</td>\n",
       "    </tr>\n",
       "    <tr>\n",
       "      <th>50%</th>\n",
       "      <td>NaN</td>\n",
       "      <td>NaN</td>\n",
       "      <td>NaN</td>\n",
       "      <td>NaN</td>\n",
       "      <td>NaN</td>\n",
       "      <td>NaN</td>\n",
       "      <td>NaN</td>\n",
       "      <td>2003.000000</td>\n",
       "      <td>NaN</td>\n",
       "      <td>105.000000</td>\n",
       "      <td>NaN</td>\n",
       "      <td>NaN</td>\n",
       "      <td>6.000000</td>\n",
       "      <td>NaN</td>\n",
       "      <td>NaN</td>\n",
       "      <td>NaN</td>\n",
       "      <td>NaN</td>\n",
       "      <td>0.0</td>\n",
       "      <td>49577.000000</td>\n",
       "      <td>NaN</td>\n",
       "    </tr>\n",
       "    <tr>\n",
       "      <th>75%</th>\n",
       "      <td>NaN</td>\n",
       "      <td>NaN</td>\n",
       "      <td>NaN</td>\n",
       "      <td>NaN</td>\n",
       "      <td>NaN</td>\n",
       "      <td>NaN</td>\n",
       "      <td>NaN</td>\n",
       "      <td>2008.000000</td>\n",
       "      <td>NaN</td>\n",
       "      <td>150.000000</td>\n",
       "      <td>NaN</td>\n",
       "      <td>NaN</td>\n",
       "      <td>9.000000</td>\n",
       "      <td>NaN</td>\n",
       "      <td>NaN</td>\n",
       "      <td>NaN</td>\n",
       "      <td>NaN</td>\n",
       "      <td>0.0</td>\n",
       "      <td>71540.000000</td>\n",
       "      <td>NaN</td>\n",
       "    </tr>\n",
       "    <tr>\n",
       "      <th>max</th>\n",
       "      <td>NaN</td>\n",
       "      <td>NaN</td>\n",
       "      <td>NaN</td>\n",
       "      <td>NaN</td>\n",
       "      <td>NaN</td>\n",
       "      <td>NaN</td>\n",
       "      <td>NaN</td>\n",
       "      <td>9999.000000</td>\n",
       "      <td>NaN</td>\n",
       "      <td>17700.000000</td>\n",
       "      <td>NaN</td>\n",
       "      <td>NaN</td>\n",
       "      <td>12.000000</td>\n",
       "      <td>NaN</td>\n",
       "      <td>NaN</td>\n",
       "      <td>NaN</td>\n",
       "      <td>NaN</td>\n",
       "      <td>0.0</td>\n",
       "      <td>99998.000000</td>\n",
       "      <td>NaN</td>\n",
       "    </tr>\n",
       "  </tbody>\n",
       "</table>\n",
       "</div>"
      ],
      "text/plain": [
       "               date_crawled         name  seller offer_type  price abtest  \\\n",
       "count                 50000        50000   50000      50000  50000  50000   \n",
       "unique                48213        38754       2          2   2357      2   \n",
       "top     2016-03-08 10:40:35  Ford_Fiesta  privat    Angebot     $0   test   \n",
       "freq                      3           78   49999      49999   1421  25756   \n",
       "mean                    NaN          NaN     NaN        NaN    NaN    NaN   \n",
       "std                     NaN          NaN     NaN        NaN    NaN    NaN   \n",
       "min                     NaN          NaN     NaN        NaN    NaN    NaN   \n",
       "25%                     NaN          NaN     NaN        NaN    NaN    NaN   \n",
       "50%                     NaN          NaN     NaN        NaN    NaN    NaN   \n",
       "75%                     NaN          NaN     NaN        NaN    NaN    NaN   \n",
       "max                     NaN          NaN     NaN        NaN    NaN    NaN   \n",
       "\n",
       "       vehicle_type  registration_year  gearbox       powerPS  model  \\\n",
       "count         44905       50000.000000    47320  50000.000000  47242   \n",
       "unique            8                NaN        2           NaN    245   \n",
       "top       limousine                NaN  manuell           NaN   golf   \n",
       "freq          12859                NaN    36993           NaN   4024   \n",
       "mean            NaN        2005.073280      NaN    116.355920    NaN   \n",
       "std             NaN         105.712813      NaN    209.216627    NaN   \n",
       "min             NaN        1000.000000      NaN      0.000000    NaN   \n",
       "25%             NaN        1999.000000      NaN     70.000000    NaN   \n",
       "50%             NaN        2003.000000      NaN    105.000000    NaN   \n",
       "75%             NaN        2008.000000      NaN    150.000000    NaN   \n",
       "max             NaN        9999.000000      NaN  17700.000000    NaN   \n",
       "\n",
       "         odometer  registration_month fuel_type       brand unrepaired_damage  \\\n",
       "count       50000        50000.000000     45518       50000             40171   \n",
       "unique         13                 NaN         7          40                 2   \n",
       "top     150,000km                 NaN    benzin  volkswagen              nein   \n",
       "freq        32424                 NaN     30107       10687             35232   \n",
       "mean          NaN            5.723360       NaN         NaN               NaN   \n",
       "std           NaN            3.711984       NaN         NaN               NaN   \n",
       "min           NaN            0.000000       NaN         NaN               NaN   \n",
       "25%           NaN            3.000000       NaN         NaN               NaN   \n",
       "50%           NaN            6.000000       NaN         NaN               NaN   \n",
       "75%           NaN            9.000000       NaN         NaN               NaN   \n",
       "max           NaN           12.000000       NaN         NaN               NaN   \n",
       "\n",
       "                 ad_created  nr_of_pictures   postal_code            last_seen  \n",
       "count                 50000         50000.0  50000.000000                50000  \n",
       "unique                   76             NaN           NaN                39481  \n",
       "top     2016-04-03 00:00:00             NaN           NaN  2016-04-07 06:17:27  \n",
       "freq                   1946             NaN           NaN                    8  \n",
       "mean                    NaN             0.0  50813.627300                  NaN  \n",
       "std                     NaN             0.0  25779.747957                  NaN  \n",
       "min                     NaN             0.0   1067.000000                  NaN  \n",
       "25%                     NaN             0.0  30451.000000                  NaN  \n",
       "50%                     NaN             0.0  49577.000000                  NaN  \n",
       "75%                     NaN             0.0  71540.000000                  NaN  \n",
       "max                     NaN             0.0  99998.000000                  NaN  "
      ]
     },
     "execution_count": 33,
     "metadata": {},
     "output_type": "execute_result"
    }
   ],
   "source": [
    "autos.describe(include = 'all')"
   ]
  },
  {
   "cell_type": "markdown",
   "metadata": {
    "collapsed": true
   },
   "source": [
    "### 3. Cleaning the essential data"
   ]
  },
  {
   "cell_type": "markdown",
   "metadata": {},
   "source": [
    "#### This section focuses on identifying issues with the columns of data. Some of them will be addressed as they pertain to the needs of the analysis while the others are for anyone who may take interest in working with said data."
   ]
  },
  {
   "cell_type": "markdown",
   "metadata": {},
   "source": [
    "### Identifying issues with the numbers"
   ]
  },
  {
   "cell_type": "code",
   "execution_count": 34,
   "metadata": {
    "collapsed": false
   },
   "outputs": [
    {
     "name": "stdout",
     "output_type": "stream",
     "text": [
      "$0        1421\n",
      "$500       781\n",
      "$1,500     734\n",
      "$2,500     643\n",
      "$1,000     639\n",
      "Name: price, dtype: int64\n"
     ]
    },
    {
     "data": {
      "text/plain": [
       "dtype('O')"
      ]
     },
     "execution_count": 34,
     "metadata": {},
     "output_type": "execute_result"
    }
   ],
   "source": [
    "#This has a decent amount of improbable car prices\n",
    "print(autos[\"price\"]\n",
    " .value_counts(dropna=False, ascending = False)\n",
    " .head()\n",
    ")\n",
    "autos[\"price\"].dtype"
   ]
  },
  {
   "cell_type": "code",
   "execution_count": 35,
   "metadata": {
    "collapsed": false
   },
   "outputs": [
    {
     "name": "stdout",
     "output_type": "stream",
     "text": [
      "150,000km    32424\n",
      "125,000km     5170\n",
      "100,000km     2169\n",
      "90,000km      1757\n",
      "80,000km      1436\n",
      "Name: odometer, dtype: int64\n",
      "\n",
      " Unique Values :  ['150,000km' '70,000km' '50,000km' '80,000km' '10,000km' '30,000km'\n",
      " '125,000km' '90,000km' '20,000km' '60,000km' '5,000km' '100,000km'\n",
      " '40,000km'] \n",
      "\n"
     ]
    },
    {
     "data": {
      "text/plain": [
       "dtype('O')"
      ]
     },
     "execution_count": 35,
     "metadata": {},
     "output_type": "execute_result"
    }
   ],
   "source": [
    "#Getting a sense for the format of the data\n",
    "print(autos[\"odometer\"]\n",
    " .value_counts(dropna=False)\n",
    " .head()\n",
    ")\n",
    "print('\\n','Unique Values : ',\n",
    "      autos[\"odometer\"].unique(),'\\n')\n",
    "\n",
    "autos[\"odometer\"].dtype"
   ]
  },
  {
   "cell_type": "markdown",
   "metadata": {
    "collapsed": true
   },
   "source": [
    "#### The first inconsistency to address is the \"object\" type that price and odometer have. The second inconsistency is the appearance of strange values in \"price\". It is very unlikely for a used car to retail for 0 dollars, even if it was a broken car exclusively meant for harvesting parts. . In contrast, odometer simply needs to be formatted appropriately for further analysis with the removal of the \"km\" and the commas."
   ]
  },
  {
   "cell_type": "markdown",
   "metadata": {},
   "source": [
    "### Cleaning the numbers "
   ]
  },
  {
   "cell_type": "code",
   "execution_count": 36,
   "metadata": {
    "collapsed": false
   },
   "outputs": [
    {
     "name": "stdout",
     "output_type": "stream",
     "text": [
      "0       1421\n",
      "500      781\n",
      "1500     734\n",
      "2500     643\n",
      "1000     639\n",
      "Name: price, dtype: int64\n"
     ]
    },
    {
     "data": {
      "text/plain": [
       "dtype('int64')"
      ]
     },
     "execution_count": 36,
     "metadata": {},
     "output_type": "execute_result"
    }
   ],
   "source": [
    "#Fixing the price column's data and type\n",
    "\n",
    "autos['price'] = autos['price'].str.replace('$','')\n",
    "\n",
    "autos['price'] = autos['price'].str.replace(',','')\n",
    "\n",
    "autos['price'] = autos['price'].astype(int)\n",
    "\n",
    "\n",
    "#To check results\n",
    "print(autos[\"price\"]\n",
    " .value_counts(dropna=False, ascending = False)\n",
    " .head()\n",
    ")\n",
    "autos[\"price\"].dtype"
   ]
  },
  {
   "cell_type": "code",
   "execution_count": 37,
   "metadata": {
    "collapsed": false
   },
   "outputs": [
    {
     "name": "stdout",
     "output_type": "stream",
     "text": [
      "150000    32424\n",
      "125000     5170\n",
      "100000     2169\n",
      "90000      1757\n",
      "80000      1436\n",
      "Name: odometer_km, dtype: int64\n"
     ]
    },
    {
     "data": {
      "text/plain": [
       "dtype('int64')"
      ]
     },
     "execution_count": 37,
     "metadata": {},
     "output_type": "execute_result"
    }
   ],
   "source": [
    "#Fixing the odometer column data and type\n",
    "\n",
    "autos['odometer'] = autos['odometer'].str.replace(',','')\n",
    "\n",
    "autos['odometer'] = autos['odometer'].str.replace('km','')\n",
    "\n",
    "autos['odometer'] = autos['odometer'].astype(int)\n",
    "\n",
    "autos.rename({'odometer':'odometer_km'}, axis = 'columns', inplace = True)\n",
    "\n",
    "#To check results\n",
    "\n",
    "print(autos['odometer_km']\n",
    "     .value_counts(dropna = False)\n",
    "     .head()\n",
    "     )\n",
    "\n",
    "autos['odometer_km'].dtype"
   ]
  },
  {
   "cell_type": "markdown",
   "metadata": {},
   "source": [
    "### Analyzing price and odometer km"
   ]
  },
  {
   "cell_type": "code",
   "execution_count": 38,
   "metadata": {
    "collapsed": false
   },
   "outputs": [
    {
     "name": "stdout",
     "output_type": "stream",
     "text": [
      "Number of unique values : 2357 \n",
      "\n",
      "count    5.000000e+04\n",
      "mean     9.840044e+03\n",
      "std      4.811044e+05\n",
      "min      0.000000e+00\n",
      "25%      1.100000e+03\n",
      "50%      2.950000e+03\n",
      "75%      7.200000e+03\n",
      "max      1.000000e+08\n",
      "Name: price, dtype: float64 \n",
      "\n",
      "99999999    1\n",
      "27322222    1\n",
      "12345678    3\n",
      "11111111    2\n",
      "10000000    1\n",
      "3890000     1\n",
      "1300000     1\n",
      "1234566     1\n",
      "999999      2\n",
      "999990      1\n",
      "Name: price, dtype: int64\n"
     ]
    },
    {
     "data": {
      "text/plain": [
       "False    45111\n",
       "True      4889\n",
       "Name: price, dtype: int64"
      ]
     },
     "execution_count": 38,
     "metadata": {},
     "output_type": "execute_result"
    }
   ],
   "source": [
    "#Reviewing the data in the 'price' column\n",
    "\n",
    "print('Number of unique values :', autos['price'].unique()\n",
    "      .shape[0]#Counting unique entries\n",
    "     , '\\n')\n",
    "\n",
    "print(autos['price'].describe(),'\\n')#Now, it is int64.\n",
    "\n",
    "print(autos['price'].value_counts()\n",
    "              .sort_index(ascending = False)\n",
    "              .head(10)#To find highest outliers\n",
    "               )\n",
    "autos['price'].between(0,499).value_counts()\n",
    "#To gauge amount of values between 0 & 499 "
   ]
  },
  {
   "cell_type": "markdown",
   "metadata": {},
   "source": [
    "#### Upon careful consideration and observation, values above 1 million and below 500 will be treated as outliers and  irrelevant to the analysis. The reasoning for eliminating the values below 500 is that they seem too low and unrealistic, such as the 1,421 of used cars selling for a price of 0. To study the outliers above 1 million, the following code block was run where a custom sorted 'autos' dataframe with the registration year revealed oddities. Among them, there were either extremely high values such as a 99.9 million euro price for a 1992 Ferrari or strange values, almost akin to a jest, such as \"12,345,678\", \"11,111,111\", \"1,234,566\". For the latter, prices do not tend to reiterate the same number or run through all the digits from \"0\" to \"9\", in contrast to the retail patterns of having any type of price end in the digits \".99\" or \"9.99\". Lastly, the descriptive statistics will be run again with these conditions in place. "
   ]
  },
  {
   "cell_type": "code",
   "execution_count": 39,
   "metadata": {
    "collapsed": false
   },
   "outputs": [
    {
     "data": {
      "text/html": [
       "<div>\n",
       "<style scoped>\n",
       "    .dataframe tbody tr th:only-of-type {\n",
       "        vertical-align: middle;\n",
       "    }\n",
       "\n",
       "    .dataframe tbody tr th {\n",
       "        vertical-align: top;\n",
       "    }\n",
       "\n",
       "    .dataframe thead th {\n",
       "        text-align: right;\n",
       "    }\n",
       "</style>\n",
       "<table border=\"1\" class=\"dataframe\">\n",
       "  <thead>\n",
       "    <tr style=\"text-align: right;\">\n",
       "      <th></th>\n",
       "      <th>price</th>\n",
       "      <th>registration_year</th>\n",
       "      <th>name</th>\n",
       "    </tr>\n",
       "  </thead>\n",
       "  <tbody>\n",
       "    <tr>\n",
       "      <th>39705</th>\n",
       "      <td>99999999</td>\n",
       "      <td>1999</td>\n",
       "      <td>Tausch_gegen_gleichwertiges</td>\n",
       "    </tr>\n",
       "    <tr>\n",
       "      <th>42221</th>\n",
       "      <td>27322222</td>\n",
       "      <td>2014</td>\n",
       "      <td>Leasinguebernahme</td>\n",
       "    </tr>\n",
       "    <tr>\n",
       "      <th>27371</th>\n",
       "      <td>12345678</td>\n",
       "      <td>2017</td>\n",
       "      <td>Fiat_Punto</td>\n",
       "    </tr>\n",
       "    <tr>\n",
       "      <th>39377</th>\n",
       "      <td>12345678</td>\n",
       "      <td>2018</td>\n",
       "      <td>Tausche_volvo_v40_gegen_van</td>\n",
       "    </tr>\n",
       "    <tr>\n",
       "      <th>47598</th>\n",
       "      <td>12345678</td>\n",
       "      <td>2001</td>\n",
       "      <td>Opel_Vectra_B_1_6i_16V_Facelift_Tuning_Showcar...</td>\n",
       "    </tr>\n",
       "    <tr>\n",
       "      <th>2897</th>\n",
       "      <td>11111111</td>\n",
       "      <td>1973</td>\n",
       "      <td>Escort_MK_1_Hundeknochen_zum_umbauen_auf_RS_2000</td>\n",
       "    </tr>\n",
       "    <tr>\n",
       "      <th>24384</th>\n",
       "      <td>11111111</td>\n",
       "      <td>1995</td>\n",
       "      <td>Schlachte_Golf_3_gt_tdi</td>\n",
       "    </tr>\n",
       "    <tr>\n",
       "      <th>11137</th>\n",
       "      <td>10000000</td>\n",
       "      <td>1960</td>\n",
       "      <td>suche_maserati_3200_gt_Zustand_unwichtig_laufe...</td>\n",
       "    </tr>\n",
       "    <tr>\n",
       "      <th>47634</th>\n",
       "      <td>3890000</td>\n",
       "      <td>2006</td>\n",
       "      <td>Ferrari_FXX</td>\n",
       "    </tr>\n",
       "    <tr>\n",
       "      <th>7814</th>\n",
       "      <td>1300000</td>\n",
       "      <td>1992</td>\n",
       "      <td>Ferrari_F40</td>\n",
       "    </tr>\n",
       "    <tr>\n",
       "      <th>22947</th>\n",
       "      <td>1234566</td>\n",
       "      <td>1999</td>\n",
       "      <td>Bmw_530d_zum_ausschlachten</td>\n",
       "    </tr>\n",
       "    <tr>\n",
       "      <th>43049</th>\n",
       "      <td>999999</td>\n",
       "      <td>1981</td>\n",
       "      <td>2_VW_Busse_T3</td>\n",
       "    </tr>\n",
       "    <tr>\n",
       "      <th>514</th>\n",
       "      <td>999999</td>\n",
       "      <td>2009</td>\n",
       "      <td>Ford_Focus_Turnier_1.6_16V_Style</td>\n",
       "    </tr>\n",
       "    <tr>\n",
       "      <th>37585</th>\n",
       "      <td>999990</td>\n",
       "      <td>1985</td>\n",
       "      <td>Volkswagen_Jetta_GT</td>\n",
       "    </tr>\n",
       "    <tr>\n",
       "      <th>36818</th>\n",
       "      <td>350000</td>\n",
       "      <td>2016</td>\n",
       "      <td>Porsche_991</td>\n",
       "    </tr>\n",
       "  </tbody>\n",
       "</table>\n",
       "</div>"
      ],
      "text/plain": [
       "          price  registration_year  \\\n",
       "39705  99999999               1999   \n",
       "42221  27322222               2014   \n",
       "27371  12345678               2017   \n",
       "39377  12345678               2018   \n",
       "47598  12345678               2001   \n",
       "2897   11111111               1973   \n",
       "24384  11111111               1995   \n",
       "11137  10000000               1960   \n",
       "47634   3890000               2006   \n",
       "7814    1300000               1992   \n",
       "22947   1234566               1999   \n",
       "43049    999999               1981   \n",
       "514      999999               2009   \n",
       "37585    999990               1985   \n",
       "36818    350000               2016   \n",
       "\n",
       "                                                    name  \n",
       "39705                        Tausch_gegen_gleichwertiges  \n",
       "42221                                  Leasinguebernahme  \n",
       "27371                                         Fiat_Punto  \n",
       "39377                        Tausche_volvo_v40_gegen_van  \n",
       "47598  Opel_Vectra_B_1_6i_16V_Facelift_Tuning_Showcar...  \n",
       "2897    Escort_MK_1_Hundeknochen_zum_umbauen_auf_RS_2000  \n",
       "24384                            Schlachte_Golf_3_gt_tdi  \n",
       "11137  suche_maserati_3200_gt_Zustand_unwichtig_laufe...  \n",
       "47634                                        Ferrari_FXX  \n",
       "7814                                         Ferrari_F40  \n",
       "22947                         Bmw_530d_zum_ausschlachten  \n",
       "43049                                      2_VW_Busse_T3  \n",
       "514                     Ford_Focus_Turnier_1.6_16V_Style  \n",
       "37585                                Volkswagen_Jetta_GT  \n",
       "36818                                        Porsche_991  "
      ]
     },
     "execution_count": 39,
     "metadata": {},
     "output_type": "execute_result"
    }
   ],
   "source": [
    "(autos[['price','registration_year','name']\n",
    "      ].sort_values(by = ['price'], ascending= False)\n",
    "       .head(15)\n",
    "      )"
   ]
  },
  {
   "cell_type": "code",
   "execution_count": 40,
   "metadata": {
    "collapsed": false
   },
   "outputs": [
    {
     "data": {
      "text/plain": [
       "count     45100.000000\n",
       "mean       6386.757738\n",
       "std       12306.631453\n",
       "min         500.000000\n",
       "25%        1500.000000\n",
       "50%        3500.000000\n",
       "75%        7900.000000\n",
       "max      999999.000000\n",
       "Name: price, dtype: float64"
      ]
     },
     "execution_count": 40,
     "metadata": {},
     "output_type": "execute_result"
    }
   ],
   "source": [
    "#Removing the outliers\n",
    "\n",
    "clean_price = autos['price'].between(500,1000000)\n",
    "\n",
    "autos = autos[clean_price] \n",
    "\n",
    "#Running the code again under more relevant parameters\n",
    "\n",
    "               \n",
    "autos['price'].describe()\n",
    "#With new conditions, the findings are less obscured by \n",
    "#outliers.\n"
   ]
  },
  {
   "cell_type": "markdown",
   "metadata": {},
   "source": [
    "####  Despite a 6,386 average, most cars were selling near the 3,500 dollar mark and in an overall range of 1,500 to 7,900. However, the standard deviation is a bit high given the wide price range for these cars. Nevertheless, this serves as a preliminary view of the bulk of the prices for these used cars. Now, \"odemeter_km\" follows."
   ]
  },
  {
   "cell_type": "code",
   "execution_count": 41,
   "metadata": {
    "collapsed": false
   },
   "outputs": [
    {
     "name": "stdout",
     "output_type": "stream",
     "text": [
      "Number of unique values : 13 \n",
      "\n",
      "count     45100.000000\n",
      "mean     125294.124169\n",
      "std       39621.768672\n",
      "min        5000.000000\n",
      "25%      100000.000000\n",
      "50%      150000.000000\n",
      "75%      150000.000000\n",
      "max      150000.000000\n",
      "Name: odometer_km, dtype: float64 \n",
      "\n",
      "150000    28700\n",
      "125000     4839\n",
      "100000     2031\n",
      "90000      1676\n",
      "80000      1385\n",
      "Name: odometer_km, dtype: int64\n"
     ]
    }
   ],
   "source": [
    "#Reviewing the data in the 'odometer' column\n",
    "\n",
    "print('Number of unique values :', autos['odometer_km'].unique()\n",
    "      .shape[0]#Counting unique entries\n",
    "     , '\\n')\n",
    "\n",
    "print(autos['odometer_km'].describe(),'\\n')#Now, it is int64.\n",
    "\n",
    "print(autos['odometer_km'].value_counts()\n",
    "              .sort_index(ascending = False)\n",
    "              .head(5)#To find potential outliers\n",
    "               )\n"
   ]
  },
  {
   "cell_type": "markdown",
   "metadata": {},
   "source": [
    "####  The bulk of the data is in the 150,000 km area, validated by its 50th and 75th percentile. 28,700 of 45,100 records of cars show these vehicles running this amount of distance, which is quite great. In other words, these cars have definitely seen quite a bit of use."
   ]
  },
  {
   "cell_type": "markdown",
   "metadata": {},
   "source": [
    "### Looking into the dates"
   ]
  },
  {
   "cell_type": "code",
   "execution_count": 43,
   "metadata": {
    "collapsed": false
   },
   "outputs": [
    {
     "name": "stdout",
     "output_type": "stream",
     "text": [
      "First few rows: \n",
      " 0    2016-03-26\n",
      "1    2016-04-04\n",
      "2    2016-03-26\n",
      "3    2016-03-12\n",
      "4    2016-04-01\n",
      "Name: date_crawled, dtype: object\n",
      "\n",
      " Empty entries : False    45100\n",
      "Name: date_crawled, dtype: int64 \n",
      "\n",
      "dtype :  object \n",
      "\n",
      "Distribution : \n",
      " 2016-04-03    0.038825\n",
      "2016-03-20    0.038071\n",
      "2016-03-21    0.037761\n",
      "2016-03-12    0.037317\n",
      "2016-04-04    0.036608\n",
      "2016-03-14    0.036297\n",
      "2016-03-07    0.036186\n",
      "2016-04-02    0.035765\n",
      "2016-03-28    0.034834\n",
      "2016-03-19    0.034745\n",
      "2016-03-15    0.034013\n",
      "2016-04-01    0.033902\n",
      "2016-03-30    0.033326\n",
      "2016-03-29    0.033282\n",
      "2016-03-08    0.033171\n",
      "2016-03-11    0.033016\n",
      "2016-03-22    0.033016\n",
      "2016-03-09    0.032905\n",
      "2016-03-10    0.032705\n",
      "2016-03-26    0.032639\n",
      "2016-03-23    0.032395\n",
      "2016-03-31    0.031663\n",
      "2016-03-17    0.031175\n",
      "2016-03-27    0.031175\n",
      "2016-03-25    0.031086\n",
      "2016-03-16    0.029357\n",
      "2016-03-24    0.028980\n",
      "2016-03-05    0.025565\n",
      "2016-03-13    0.015521\n",
      "2016-03-06    0.014124\n",
      "2016-04-05    0.013171\n",
      "2016-03-18    0.012882\n",
      "2016-04-06    0.003171\n",
      "2016-04-07    0.001353\n",
      "Name: date_crawled, dtype: float64\n"
     ]
    }
   ],
   "source": [
    "#Showing the oddities with the hours\n",
    "\n",
    "print('First few rows:', '\\n',autos[\"date_crawled\"]\n",
    "      .head()\n",
    "     ) #To get a sense of the data\n",
    "\n",
    "print('\\n','Empty entries :', autos[\"date_crawled\"]\n",
    "      .isnull()\n",
    "      .value_counts(),\n",
    "      '\\n'\n",
    "     )# To find number of blanks specifically\n",
    "\n",
    "print('dtype : ',autos[\"date_crawled\"].dtype, '\\n')\n",
    "#To get confirmation on the type\n",
    "\n",
    "\n",
    "#Cleaning the column's data\n",
    "\n",
    "autos[\"date_crawled\"] = autos[\"date_crawled\"].str[:10]\n",
    "\n",
    "\n",
    "#To get a sense of the distribution in dates\n",
    "\n",
    "print('Distribution :','\\n',\n",
    "      autos[\"date_crawled\"].value_counts\n",
    "      (normalize = True,dropna = False)\n",
    "     )\n"
   ]
  },
  {
   "cell_type": "markdown",
   "metadata": {},
   "source": [
    "#### The 'date_crawled' field has no empty entries, is an object type, and, after cleaning, has a range of dates from march to early april 2016 with a high frequency in '2016-04-03'. This last finding is interesting when the bulk of the data is concentrated in march. However, this field is the date of the data's retrieval. The next is 'ad_created'."
   ]
  },
  {
   "cell_type": "code",
   "execution_count": 44,
   "metadata": {
    "collapsed": false,
    "scrolled": false
   },
   "outputs": [
    {
     "name": "stdout",
     "output_type": "stream",
     "text": [
      "Showing timeslot pattern : \n",
      " 2016-04-03 00:00:00    1761\n",
      "2016-03-20 00:00:00    1723\n",
      "2016-03-21 00:00:00    1713\n",
      "2016-03-12 00:00:00    1673\n",
      "2016-04-04 00:00:00    1668\n",
      "Name: ad_created, dtype: int64\n",
      "\n",
      " Empty Entries :  False    45100\n",
      "Name: ad_created, dtype: int64 \n",
      "\n",
      "dtype :  object \n",
      "\n",
      "The highest frequencies:  \n",
      " 2016-04-03    0.039047\n",
      "2016-03-20    0.038204\n",
      "2016-03-21    0.037982\n",
      "2016-03-12    0.037095\n",
      "2016-04-04    0.036984\n",
      "2016-04-02    0.035455\n",
      "2016-03-07    0.034900\n",
      "2016-03-14    0.034878\n",
      "2016-03-28    0.034878\n",
      "2016-04-01    0.033836\n",
      "2016-03-15    0.033792\n",
      "2016-03-19    0.033614\n",
      "2016-03-11    0.033326\n",
      "2016-03-29    0.033259\n",
      "2016-03-30    0.033193\n",
      "2016-03-08    0.033126\n",
      "2016-03-09    0.032993\n",
      "2016-03-22    0.032772\n",
      "2016-03-26    0.032639\n",
      "2016-03-10    0.032439\n",
      "2016-03-23    0.032217\n",
      "2016-03-31    0.031729\n",
      "2016-03-25    0.031242\n",
      "2016-03-27    0.031131\n",
      "2016-03-17    0.030843\n",
      "2016-03-16    0.029845\n",
      "2016-03-24    0.028958\n",
      "2016-03-05    0.023126\n",
      "2016-03-13    0.016962\n",
      "2016-03-06    0.015388\n",
      "Name: ad_created, dtype: float64 \n",
      "\n",
      "2015-06-11    0.000022\n",
      "2015-08-10    0.000022\n",
      "2015-09-09    0.000022\n",
      "Name: ad_created, dtype: float64 \n",
      "\n",
      "2016-04-07    0.001197\n",
      "2016-04-06    0.003259\n",
      "2016-04-05    0.011907\n",
      "Name: ad_created, dtype: float64\n"
     ]
    }
   ],
   "source": [
    "#Same timeslot, different date\n",
    "\n",
    "print('Showing timeslot pattern :', '\\n',\n",
    "      autos[\"ad_created\"]\n",
    "      .value_counts(dropna=False)\n",
    "      .head()\n",
    "     )#To show the common timeslot amongst records\n",
    "\n",
    "print('\\n','Empty Entries : ', autos[\"ad_created\"]\n",
    "      .isnull()\n",
    "      .value_counts(),\n",
    "      '\\n'\n",
    "     )# To find number of blanks specifically\n",
    "\n",
    "\n",
    "print('dtype : ', autos[\"ad_created\"].dtype,'\\n')\n",
    "#To get confirmation on the type\n",
    "\n",
    "\n",
    "#Cleaning the column's data\n",
    "\n",
    "autos[\"ad_created\"] = autos[\"ad_created\"].str[:10]\n",
    "\n",
    "\n",
    "#To get a sense of the distribution in dates\n",
    "\n",
    "print('The highest frequencies: ','\\n',\n",
    "      autos[\"ad_created\"].value_counts\n",
    "      (normalize = True, \n",
    "       dropna = False)\n",
    "      .head(30), '\\n'# For the highest value\n",
    "     )\n",
    "\n",
    "print(autos[\"ad_created\"].value_counts\n",
    "      (normalize = True, \n",
    "       dropna = False)\n",
    "      .sort_index()\n",
    "      .head(3), '\\n'# To know the oldest date\n",
    "     )\n",
    "\n",
    "print(autos[\"ad_created\"].value_counts\n",
    "      (normalize = True, \n",
    "       dropna = False)\n",
    "      .sort_index(ascending = False)\n",
    "      .head(3)# To know the latest date\n",
    "     )\n"
   ]
  },
  {
   "cell_type": "markdown",
   "metadata": {
    "collapsed": true
   },
   "source": [
    "####  The \"ad_created\" column contains a few interesting findings. Most of the ads were created in April 3rd, 2016. On the other hand, that is essentially a max value of 3.9% of all ads. The bulk of the ads were created in March, mostly towards the end and beginning of the month. As for the oldest ad on record, one from June 11th, 2015 was found. Lastly, there were no empty entries and the datatype was object. Next is the \"last_seen\" column\"."
   ]
  },
  {
   "cell_type": "code",
   "execution_count": 45,
   "metadata": {
    "collapsed": false
   },
   "outputs": [
    {
     "name": "stdout",
     "output_type": "stream",
     "text": [
      "Observing a few records : \n",
      " 2016-04-07 06:17:27    8\n",
      "2016-04-07 03:16:17    7\n",
      "2016-04-06 21:17:51    7\n",
      "2016-04-06 20:48:27    6\n",
      "2016-04-06 14:17:04    6\n",
      "Name: last_seen, dtype: int64\n",
      "\n",
      " Empty Entries :  False    45100\n",
      "Name: last_seen, dtype: int64 \n",
      "\n",
      "dtype :  object \n",
      "\n",
      "The highest frequencies:  \n",
      " 2016-04-06    0.225322\n",
      "2016-04-07    0.134146\n",
      "2016-04-05    0.126608\n",
      "2016-03-17    0.027672\n",
      "2016-04-03    0.024945\n",
      "Name: last_seen, dtype: float64 \n",
      "\n"
     ]
    }
   ],
   "source": [
    "#Now for \"last_seen\"\n",
    "print('Observing a few records :', '\\n',\n",
    "      autos[\"last_seen\"]\n",
    "      .value_counts(dropna=False)\n",
    "      .head()\n",
    "     )#To show the common timeslot amongst records\n",
    "\n",
    "print('\\n','Empty Entries : ', autos[\"last_seen\"]\n",
    "      .isnull()\n",
    "      .value_counts(),\n",
    "      '\\n'\n",
    "     )# To find number of blanks specifically\n",
    "\n",
    "\n",
    "print('dtype : ', autos[\"last_seen\"].dtype,'\\n')\n",
    "#To get confirmation on the type\n",
    "\n",
    "\n",
    "#Cleaning the column's data\n",
    "\n",
    "autos[\"last_seen\"] = autos[\"last_seen\"].str[:10]\n",
    "\n",
    "\n",
    "#To get a sense of the distribution in dates\n",
    "\n",
    "print('The highest frequencies: ','\\n',\n",
    "      autos[\"last_seen\"].value_counts\n",
    "      (normalize = True, \n",
    "       dropna = False)\n",
    "      .head(5), '\\n'# For the highest value\n",
    "     )\n"
   ]
  },
  {
   "cell_type": "markdown",
   "metadata": {},
   "source": [
    "#### Similar to \"date_crawled\", \"last_seen\" was created during the retrieval of the data. In similar fashion to the previous fields, there were no empty entries and the datatype was object. As for the findings, the bulk of the ads themselves closed (or were last seen) during the beginning of April 2016, mostly the 6th, 7th and 5th. This coincides with the majority of the ads being created in march. It can be summarized that the timing of car sales tend to peak in March. Such high activity could potentially indicate the buying of new car models and the selling of old ones.  "
   ]
  },
  {
   "cell_type": "code",
   "execution_count": 46,
   "metadata": {
    "collapsed": false
   },
   "outputs": [
    {
     "name": "stdout",
     "output_type": "stream",
     "text": [
      "There are strange years in this column :  \n",
      " 1000    1\n",
      "1001    1\n",
      "1910    2\n",
      "1927    1\n",
      "1929    1\n",
      "1931    1\n",
      "1934    2\n",
      "1937    4\n",
      "1938    1\n",
      "1939    1\n",
      "Name: registration_year, dtype: int64 \n",
      "\n",
      "count    45100.000000\n",
      "mean      2005.063282\n",
      "std         89.649158\n",
      "min       1000.000000\n",
      "25%       2000.000000\n",
      "50%       2004.000000\n",
      "75%       2008.000000\n",
      "max       9999.000000\n",
      "Name: registration_year, dtype: float64 \n",
      " \n",
      " 1000 is clearly too old and 9999 is beyond 2016.\n",
      "\n",
      " Empty entries :  False    45100\n",
      "Name: registration_year, dtype: int64 \n",
      "\n",
      "dtype :  int64 \n",
      "\n",
      "Total number of cars with registration years before 1927 and after 2016 :  1776\n"
     ]
    }
   ],
   "source": [
    "#This column has much older and newer years.\n",
    "print('There are strange years in this column : ','\\n',\n",
    "      autos[\"registration_year\"]\n",
    "      .value_counts(dropna=False, ascending = True)\n",
    "      .sort_index()#To see the oldest unlikely years\n",
    "      .head(10), '\\n'\n",
    "     )\n",
    "\n",
    "print(autos[\"registration_year\"].describe(),'\\n','\\n',\n",
    "     '1000 is clearly too old and 9999 is beyond 2016.'\n",
    "     )\n",
    "\n",
    "print('\\n','Empty entries : ',\n",
    "      autos[\"registration_year\"]\n",
    "      .isnull()\n",
    "      .value_counts(),\n",
    "      '\\n'\n",
    "     )\n",
    "\n",
    "print('dtype : ', autos[\"registration_year\"].dtype, '\\n')\n",
    "\n",
    "#Finding cutoff years for the \"registration_year\" column\n",
    "\n",
    "\n",
    "print(\"Total number of cars with registration years before 1927 and after 2016 : \",\n",
    "autos[(autos['registration_year'] < 1927) \n",
    "      | \n",
    "      (autos['registration_year'] > 2016)].shape[0])\n",
    "    #The earliest feasible year is 1927.\n",
    "    #The latest year is 2016."
   ]
  },
  {
   "cell_type": "markdown",
   "metadata": {},
   "source": [
    "#### Cars before 1927 and after 2016 will be culled from the data. As for 2016, it is the year corresponding to the latest ad created. The reason for choosing 1927 is the accuracy of the registration year in reference to a car's release date. In other words, the earliest feasible car records occur with a registration year of 1927. On the other hand, 1000 and 1001 aren't viable, which leaves 1910. Upon  running the following code to isolate records with that registration year, the car's information was searched and verified on the internet. Both of those cars hail from the 1990s, 1994 and 1992 respectively. In conclusion, these new cutoff years will allow for clearer results for the \"registration_year\" column, and a loss of 1,776 records is quite acceptable as a result of his cutoff. "
   ]
  },
  {
   "cell_type": "code",
   "execution_count": 47,
   "metadata": {
    "collapsed": false
   },
   "outputs": [
    {
     "data": {
      "text/html": [
       "<div>\n",
       "<style scoped>\n",
       "    .dataframe tbody tr th:only-of-type {\n",
       "        vertical-align: middle;\n",
       "    }\n",
       "\n",
       "    .dataframe tbody tr th {\n",
       "        vertical-align: top;\n",
       "    }\n",
       "\n",
       "    .dataframe thead th {\n",
       "        text-align: right;\n",
       "    }\n",
       "</style>\n",
       "<table border=\"1\" class=\"dataframe\">\n",
       "  <thead>\n",
       "    <tr style=\"text-align: right;\">\n",
       "      <th></th>\n",
       "      <th>date_crawled</th>\n",
       "      <th>name</th>\n",
       "      <th>seller</th>\n",
       "      <th>offer_type</th>\n",
       "      <th>price</th>\n",
       "      <th>abtest</th>\n",
       "      <th>vehicle_type</th>\n",
       "      <th>registration_year</th>\n",
       "      <th>gearbox</th>\n",
       "      <th>powerPS</th>\n",
       "      <th>model</th>\n",
       "      <th>odometer_km</th>\n",
       "      <th>registration_month</th>\n",
       "      <th>fuel_type</th>\n",
       "      <th>brand</th>\n",
       "      <th>unrepaired_damage</th>\n",
       "      <th>ad_created</th>\n",
       "      <th>nr_of_pictures</th>\n",
       "      <th>postal_code</th>\n",
       "      <th>last_seen</th>\n",
       "    </tr>\n",
       "  </thead>\n",
       "  <tbody>\n",
       "    <tr>\n",
       "      <th>22659</th>\n",
       "      <td>2016-03-14</td>\n",
       "      <td>Opel_Corsa_B</td>\n",
       "      <td>privat</td>\n",
       "      <td>Angebot</td>\n",
       "      <td>500</td>\n",
       "      <td>test</td>\n",
       "      <td>NaN</td>\n",
       "      <td>1910</td>\n",
       "      <td>NaN</td>\n",
       "      <td>0</td>\n",
       "      <td>corsa</td>\n",
       "      <td>150000</td>\n",
       "      <td>0</td>\n",
       "      <td>NaN</td>\n",
       "      <td>opel</td>\n",
       "      <td>NaN</td>\n",
       "      <td>2016-03-14</td>\n",
       "      <td>0</td>\n",
       "      <td>52393</td>\n",
       "      <td>2016-04-03</td>\n",
       "    </tr>\n",
       "    <tr>\n",
       "      <th>28693</th>\n",
       "      <td>2016-03-22</td>\n",
       "      <td>Renault_Twingo</td>\n",
       "      <td>privat</td>\n",
       "      <td>Angebot</td>\n",
       "      <td>599</td>\n",
       "      <td>control</td>\n",
       "      <td>kleinwagen</td>\n",
       "      <td>1910</td>\n",
       "      <td>manuell</td>\n",
       "      <td>0</td>\n",
       "      <td>NaN</td>\n",
       "      <td>5000</td>\n",
       "      <td>0</td>\n",
       "      <td>benzin</td>\n",
       "      <td>renault</td>\n",
       "      <td>NaN</td>\n",
       "      <td>2016-03-22</td>\n",
       "      <td>0</td>\n",
       "      <td>70376</td>\n",
       "      <td>2016-04-06</td>\n",
       "    </tr>\n",
       "  </tbody>\n",
       "</table>\n",
       "</div>"
      ],
      "text/plain": [
       "      date_crawled            name  seller offer_type  price   abtest  \\\n",
       "22659   2016-03-14    Opel_Corsa_B  privat    Angebot    500     test   \n",
       "28693   2016-03-22  Renault_Twingo  privat    Angebot    599  control   \n",
       "\n",
       "      vehicle_type  registration_year  gearbox  powerPS  model  odometer_km  \\\n",
       "22659          NaN               1910      NaN        0  corsa       150000   \n",
       "28693   kleinwagen               1910  manuell        0    NaN         5000   \n",
       "\n",
       "       registration_month fuel_type    brand unrepaired_damage  ad_created  \\\n",
       "22659                   0       NaN     opel               NaN  2016-03-14   \n",
       "28693                   0    benzin  renault               NaN  2016-03-22   \n",
       "\n",
       "       nr_of_pictures  postal_code   last_seen  \n",
       "22659               0        52393  2016-04-03  \n",
       "28693               0        70376  2016-04-06  "
      ]
     },
     "execution_count": 47,
     "metadata": {},
     "output_type": "execute_result"
    }
   ],
   "source": [
    "(autos[autos['registration_year'] == 1910])"
   ]
  },
  {
   "cell_type": "code",
   "execution_count": 48,
   "metadata": {
    "collapsed": false
   },
   "outputs": [
    {
     "data": {
      "text/html": [
       "<div>\n",
       "<style scoped>\n",
       "    .dataframe tbody tr th:only-of-type {\n",
       "        vertical-align: middle;\n",
       "    }\n",
       "\n",
       "    .dataframe tbody tr th {\n",
       "        vertical-align: top;\n",
       "    }\n",
       "\n",
       "    .dataframe thead th {\n",
       "        text-align: right;\n",
       "    }\n",
       "</style>\n",
       "<table border=\"1\" class=\"dataframe\">\n",
       "  <thead>\n",
       "    <tr style=\"text-align: right;\">\n",
       "      <th></th>\n",
       "      <th>date_crawled</th>\n",
       "      <th>name</th>\n",
       "      <th>seller</th>\n",
       "      <th>offer_type</th>\n",
       "      <th>price</th>\n",
       "      <th>abtest</th>\n",
       "      <th>vehicle_type</th>\n",
       "      <th>registration_year</th>\n",
       "      <th>gearbox</th>\n",
       "      <th>powerPS</th>\n",
       "      <th>model</th>\n",
       "      <th>odometer_km</th>\n",
       "      <th>registration_month</th>\n",
       "      <th>fuel_type</th>\n",
       "      <th>brand</th>\n",
       "      <th>unrepaired_damage</th>\n",
       "      <th>ad_created</th>\n",
       "      <th>nr_of_pictures</th>\n",
       "      <th>postal_code</th>\n",
       "      <th>last_seen</th>\n",
       "    </tr>\n",
       "  </thead>\n",
       "  <tbody>\n",
       "    <tr>\n",
       "      <th>21416</th>\n",
       "      <td>2016-03-12</td>\n",
       "      <td>Essex_super_six__Ford_A</td>\n",
       "      <td>privat</td>\n",
       "      <td>Angebot</td>\n",
       "      <td>16500</td>\n",
       "      <td>control</td>\n",
       "      <td>cabrio</td>\n",
       "      <td>1927</td>\n",
       "      <td>manuell</td>\n",
       "      <td>40</td>\n",
       "      <td>andere</td>\n",
       "      <td>5000</td>\n",
       "      <td>5</td>\n",
       "      <td>benzin</td>\n",
       "      <td>ford</td>\n",
       "      <td>NaN</td>\n",
       "      <td>2016-03-12</td>\n",
       "      <td>0</td>\n",
       "      <td>74821</td>\n",
       "      <td>2016-03-15</td>\n",
       "    </tr>\n",
       "  </tbody>\n",
       "</table>\n",
       "</div>"
      ],
      "text/plain": [
       "      date_crawled                     name  seller offer_type  price  \\\n",
       "21416   2016-03-12  Essex_super_six__Ford_A  privat    Angebot  16500   \n",
       "\n",
       "        abtest vehicle_type  registration_year  gearbox  powerPS   model  \\\n",
       "21416  control       cabrio               1927  manuell       40  andere   \n",
       "\n",
       "       odometer_km  registration_month fuel_type brand unrepaired_damage  \\\n",
       "21416         5000                   5    benzin  ford               NaN   \n",
       "\n",
       "       ad_created  nr_of_pictures  postal_code   last_seen  \n",
       "21416  2016-03-12               0        74821  2016-03-15  "
      ]
     },
     "execution_count": 48,
     "metadata": {},
     "output_type": "execute_result"
    }
   ],
   "source": [
    "(autos[autos['registration_year'] == 1927])"
   ]
  },
  {
   "cell_type": "code",
   "execution_count": 49,
   "metadata": {
    "collapsed": false
   },
   "outputs": [
    {
     "name": "stdout",
     "output_type": "stream",
     "text": [
      "count    43324.000000\n",
      "mean      2003.230773\n",
      "std          7.048142\n",
      "min       1927.000000\n",
      "25%       1999.000000\n",
      "50%       2004.000000\n",
      "75%       2008.000000\n",
      "max       2016.000000\n",
      "Name: registration_year, dtype: float64\n",
      "\n",
      " % of cars from the 2000s :  0.5788708337180316\n"
     ]
    }
   ],
   "source": [
    "cutoff_bool = (autos['registration_year']\n",
    "               .between(1927,2016)\n",
    "              )\n",
    "\n",
    "autos = autos[cutoff_bool]\n",
    "\n",
    "print(autos[\"registration_year\"].describe())\n",
    "\n",
    "In_the_2000s = autos[\"registration_year\"].between(2000,2009)\n",
    "\n",
    "print('\\n',\"% of cars from the 2000s : \",\n",
    "      (autos[In_the_2000s].shape[0])/autos.shape[0]\n",
    "     )\n"
   ]
  },
  {
   "cell_type": "markdown",
   "metadata": {},
   "source": [
    "#### This is clearer and more consistent. Without extremely high and low values distorting the mean, the result is 2003, which closely matches the overall median of 2004. In other words, most used cars sold here are from the 2000s (58%) with some older and newer cars as well. "
   ]
  },
  {
   "cell_type": "markdown",
   "metadata": {
    "collapsed": true
   },
   "source": [
    "### Aggregating by top 20 brands"
   ]
  },
  {
   "cell_type": "code",
   "execution_count": 50,
   "metadata": {
    "collapsed": false
   },
   "outputs": [
    {
     "name": "stdout",
     "output_type": "stream",
     "text": [
      "volkswagen        0.211938\n",
      "bmw               0.115017\n",
      "mercedes_benz     0.102253\n",
      "opel              0.100314\n",
      "audi              0.090504\n",
      "ford              0.065183\n",
      "renault           0.043879\n",
      "peugeot           0.029360\n",
      "fiat              0.023520\n",
      "seat              0.017888\n",
      "skoda             0.017150\n",
      "smart             0.015119\n",
      "nissan            0.015003\n",
      "mazda             0.015003\n",
      "citroen           0.014149\n",
      "toyota            0.013411\n",
      "hyundai           0.010156\n",
      "sonstige_autos    0.009694\n",
      "volvo             0.009371\n",
      "mini              0.009371\n",
      "Name: brand, dtype: float64\n",
      "\n",
      " Mean prices of the top 20 brands :   \n",
      "\n",
      "A1. volkswagen  :  6000\n",
      "B2. bmw  :  8582\n",
      "C3. mercedes_benz  :  8766\n",
      "D4. opel  :  3394\n",
      "E5. audi  :  9613\n",
      "F6. ford  :  4644\n",
      "G7. renault  :  2820\n",
      "H8. peugeot  :  3360\n",
      "I9. fiat  :  3256\n",
      "J10. seat  :  4810\n",
      "K11. skoda  :  6558\n",
      "L12. smart  :  3611\n",
      "M13. nissan  :  5175\n",
      "N14. mazda  :  4459\n",
      "O15. citroen  :  4012\n",
      "P16. toyota  :  5266\n",
      "Q17. hyundai  :  5686\n",
      "R18. sonstige_autos  :  13439\n",
      "S19. volvo  :  5189\n",
      "T20. mini  :  10691\n"
     ]
    }
   ],
   "source": [
    "top_20_brands = (autos[\"brand\"]\n",
    "          .value_counts(normalize = True, dropna = False)\n",
    "          .head(20)\n",
    "         ) #The most frequent brands of the used car pool\n",
    "\n",
    "print(top_20_brands)\n",
    "\n",
    "top_20_aggregate = {} #First dictionary for mean prices\n",
    "\n",
    "\n",
    "#To pair alphabetically with numbers\n",
    "\n",
    "letter_rank_holder = 'ABCDEFGHIJKLMNOPQRST' #Only 20\n",
    "\n",
    "\n",
    "#For maintaining the consistency of the ranking\n",
    "\n",
    "rank_tally = 1 #The actual ranking (1st, 2nd, 3rd)\n",
    "\n",
    "letter_tally = rank_tally - 1 #To preserve the pairing\n",
    "\n",
    "\n",
    "for brand in top_20_brands.index: \n",
    "    \n",
    "    top_20_aggregate[letter_rank_holder[letter_tally]\n",
    "                      + str(rank_tally)\n",
    "                      + '. '\n",
    "                      + str(brand)] = brand\n",
    "    \n",
    "    rank_tally += 1 \n",
    "    \n",
    "    letter_tally += 1 #The pairings are A1, B2, C3, D4,\n",
    "                      #and so forth.\n",
    "        \n",
    "    #The dictionary will be something akin to \n",
    "    #{A1. Name of most frequent brand of used car :\n",
    "    #Name of most frequent brand of used car,\n",
    "    #B2. Name of second most frequent brand of used car:\n",
    "    #Name of second most frequent brand of used car}\n",
    "    \n",
    "    #Pairings like A1 or C3 are meant to circumvent\n",
    "    #the sorted(dictionary) sorting numbers oddly,\n",
    "    #such as a pattern of \"1. Brand A\", \"10. Brand X\", \n",
    "    #and then \"2. Brand D\".\n",
    "    \n",
    "\n",
    "top_20_sorting_copy = top_20_aggregate.copy()\n",
    "#This is for a bit later. The copy will be used for\n",
    "#dataframe sorting. For now, the focus is a quick\n",
    "#preliminary view.\n",
    "\n",
    "for rank in top_20_aggregate:\n",
    "    \n",
    "    brand = top_20_aggregate[rank] #The unaltered \n",
    "                                   #brand name\n",
    "    \n",
    "    price_mean =(\n",
    "        autos.loc[autos['brand'] == brand,'price']\n",
    "        .mean()\n",
    "        )\n",
    "    \n",
    "    price_mean = int(price_mean)\n",
    "    \n",
    "    top_20_aggregate[rank] = price_mean \n",
    "    \n",
    "    #Changing the value now to the price_mean, now\n",
    "    #that the unaltered brand name (the one without the\n",
    "    #pairings) has served its purpose for the boolean.\n",
    "    \n",
    "\n",
    "print('\\n', 'Mean prices of the top 20 brands : ', ' \\n')\n",
    "\n",
    "for brand in sorted(top_20_aggregate):\n",
    "    \n",
    "    print(brand, ' : ', top_20_aggregate[brand])\n",
    "\n",
    "    \n"
   ]
  },
  {
   "cell_type": "markdown",
   "metadata": {},
   "source": [
    "#### After trying various workarounds, it was thought best to preserve the descending order of the most frequent car brands and simply adding the mean prices to the brands. This was done by using letters for maintaining set order and then numbers for readability. What is being observed is essentially the mean prices for the most frequent brands of used cars sold on ebay during the given timeframe. The \"volkswagen\", \"bmw\", \"mercedes_benz\", \"opel\",  \"audi\", and \"ford\" make up over 60% of the used car pool, where \"volkswagen\" comprises 21% of said pool while holding a lead of 10% over its nearest competitors. Other notable findings  were the expensive \"sonstige_autos\" (13,439) and mini (10,691) as brands with low frequency while the similarly priced audi (9,613) was the fifth most frequent brand. In addition, the \"bmw\", \"mercedez_benz\", and \"audi\" brands were typically priced for more than 8,000 euros except the \"opel\"  (3,394) and the \"volkswagen\" (6,000). The most frequent brands exhibit interesting behavior in the sense that the prices scale from affordable to very expensive. As for the less frequent vehicles, they were typically sold below or slightly above the 5,000 euro mark, where the cheapest car was the \"renault\" brand."
   ]
  },
  {
   "cell_type": "markdown",
   "metadata": {},
   "source": [
    "#### Storing the aggregate data for the top 6 most frequent brands (Profiling the top 6 brands)"
   ]
  },
  {
   "cell_type": "markdown",
   "metadata": {},
   "source": [
    "#### The purpose of the previous block of code was to get a quick view at the most frequent brands of used cars and their mean prices. After the view, it was decided to focus on adding the mean mileage, preserve the sorting of the most frequent brands (instead of sorting by another metric), and to isolate the top 6 most frequent brands as they comprise most of the pool."
   ]
  },
  {
   "cell_type": "code",
   "execution_count": 51,
   "metadata": {
    "collapsed": false
   },
   "outputs": [
    {
     "data": {
      "text/html": [
       "<div>\n",
       "<style scoped>\n",
       "    .dataframe tbody tr th:only-of-type {\n",
       "        vertical-align: middle;\n",
       "    }\n",
       "\n",
       "    .dataframe tbody tr th {\n",
       "        vertical-align: top;\n",
       "    }\n",
       "\n",
       "    .dataframe thead th {\n",
       "        text-align: right;\n",
       "    }\n",
       "</style>\n",
       "<table border=\"1\" class=\"dataframe\">\n",
       "  <thead>\n",
       "    <tr style=\"text-align: right;\">\n",
       "      <th></th>\n",
       "      <th>mean_price</th>\n",
       "      <th>mean_mileage</th>\n",
       "      <th>registration_year</th>\n",
       "      <th>frequency_rankings</th>\n",
       "      <th>distribution</th>\n",
       "    </tr>\n",
       "  </thead>\n",
       "  <tbody>\n",
       "    <tr>\n",
       "      <th>volkswagen</th>\n",
       "      <td>6000</td>\n",
       "      <td>128239</td>\n",
       "      <td>2002</td>\n",
       "      <td>1</td>\n",
       "      <td>0.211938</td>\n",
       "    </tr>\n",
       "    <tr>\n",
       "      <th>bmw</th>\n",
       "      <td>8582</td>\n",
       "      <td>132865</td>\n",
       "      <td>2003</td>\n",
       "      <td>2</td>\n",
       "      <td>0.115017</td>\n",
       "    </tr>\n",
       "    <tr>\n",
       "      <th>mercedes_benz</th>\n",
       "      <td>8766</td>\n",
       "      <td>131019</td>\n",
       "      <td>2002</td>\n",
       "      <td>3</td>\n",
       "      <td>0.102253</td>\n",
       "    </tr>\n",
       "    <tr>\n",
       "      <th>opel</th>\n",
       "      <td>3394</td>\n",
       "      <td>128007</td>\n",
       "      <td>2002</td>\n",
       "      <td>4</td>\n",
       "      <td>0.100314</td>\n",
       "    </tr>\n",
       "    <tr>\n",
       "      <th>audi</th>\n",
       "      <td>9613</td>\n",
       "      <td>128909</td>\n",
       "      <td>2004</td>\n",
       "      <td>5</td>\n",
       "      <td>0.090504</td>\n",
       "    </tr>\n",
       "    <tr>\n",
       "      <th>ford</th>\n",
       "      <td>4644</td>\n",
       "      <td>123495</td>\n",
       "      <td>2003</td>\n",
       "      <td>6</td>\n",
       "      <td>0.065183</td>\n",
       "    </tr>\n",
       "  </tbody>\n",
       "</table>\n",
       "</div>"
      ],
      "text/plain": [
       "               mean_price  mean_mileage  registration_year  \\\n",
       "volkswagen           6000        128239               2002   \n",
       "bmw                  8582        132865               2003   \n",
       "mercedes_benz        8766        131019               2002   \n",
       "opel                 3394        128007               2002   \n",
       "audi                 9613        128909               2004   \n",
       "ford                 4644        123495               2003   \n",
       "\n",
       "               frequency_rankings  distribution  \n",
       "volkswagen                      1      0.211938  \n",
       "bmw                             2      0.115017  \n",
       "mercedes_benz                   3      0.102253  \n",
       "opel                            4      0.100314  \n",
       "audi                            5      0.090504  \n",
       "ford                            6      0.065183  "
      ]
     },
     "execution_count": 51,
     "metadata": {},
     "output_type": "execute_result"
    }
   ],
   "source": [
    "#The goal is to create a series from this dictionary, \n",
    "#while the past aggregate was for preliminary view.\n",
    "\n",
    "top_20_mean_price = {} #Dictionary for mean prices\n",
    "\n",
    "\n",
    "#The following dictionaries are for capturing mileages and\n",
    "#years, as they will also become series in a custom \n",
    "#dataframe for the top 20 most frequent car brands.\n",
    "\n",
    "top_20_mean_mileage = {}\n",
    "\n",
    "top_20_registration_year = {}\n",
    "\n",
    "#This last piece of the puzzle is to help  \n",
    "#preserve sorting\n",
    "\n",
    "frequency_rankings = {}\n",
    "\n",
    "for item in top_20_sorting_copy: #The copy made before\n",
    "    \n",
    "    brand = top_20_sorting_copy[item] #The key\n",
    "    \n",
    "    rank = '' #The value\n",
    "    \n",
    "    for char in item:\n",
    "        \n",
    "        if char in '0123456789': \n",
    "            \n",
    "            rank += char #To get numbers and no letters\n",
    "    \n",
    "    frequency_rankings[brand] = int(rank)\n",
    "    \n",
    "    #This dictionary will be used to make a series\n",
    "    #that preserves the rankings of most frequent brands\n",
    "    #exclusively for sorting purposes.\n",
    "\n",
    "    \n",
    "for brand in top_20_brands.index: \n",
    "    \n",
    "    \n",
    "    top_20_mean_price[brand] = 0\n",
    "    \n",
    "    top_20_mean_mileage[brand] = 0\n",
    "    \n",
    "    top_20_registration_year[brand] = 0\n",
    "    \n",
    "    \n",
    "for brand in top_20_mean_price:\n",
    "    \n",
    "    price_mean =int((\n",
    "        autos.loc[autos['brand'] == brand,'price']\n",
    "        .mean()\n",
    "        ))\n",
    "    \n",
    "    mean_mileage = int((\n",
    "        autos.loc[autos['brand'] == brand,'odometer_km']\n",
    "        .mean()\n",
    "        ))\n",
    "    \n",
    "    registration_year_mean = int((\n",
    "        autos.loc[autos['brand'] == brand,\n",
    "        'registration_year']\n",
    "        .mean()\n",
    "        ))\n",
    "\n",
    "    \n",
    "    top_20_mean_price[brand] = price_mean \n",
    "    \n",
    "    top_20_mean_mileage[brand] = mean_mileage\n",
    "    \n",
    "    top_20_registration_year[brand] = registration_year_mean\n",
    "    \n",
    "\n",
    "#Turning these dictionaries into a series\n",
    "\n",
    "top_20_mean_price_series = pd.Series(top_20_mean_price)\n",
    "\n",
    "top_20_mean_mileage_series = (pd.Series\n",
    "                              (top_20_mean_mileage))\n",
    "\n",
    "top_20_registration_year_series = (pd.Series\n",
    "                              (top_20_registration_year))\n",
    "\n",
    "frequency_rankings_series = pd.Series(frequency_rankings)\n",
    "\n",
    "frequency_series = pd.Series(top_20_brands) \n",
    "#The frequencies themselves, not the rankings\n",
    "\n",
    "top_20_brand_profile = (\n",
    "    pd.DataFrame(top_20_mean_price_series,\n",
    "    columns = ['mean_price'])\n",
    "    )\n",
    "                       \n",
    "top_20_brand_profile['mean_mileage'] = (\n",
    "    top_20_mean_mileage_series\n",
    "    )\n",
    "\n",
    "top_20_brand_profile['registration_year'] = (\n",
    "    top_20_registration_year_series\n",
    "    )\n",
    "\n",
    "top_20_brand_profile['frequency_rankings'] = (\n",
    "    frequency_rankings_series\n",
    "    )\n",
    "\n",
    "top_20_brand_profile['distribution'] = (\n",
    "    frequency_series\n",
    "    )\n",
    "\n",
    "#Isolating the 6 most frequent brands and sorting them\n",
    "top_6 = (\n",
    "    top_20_brand_profile.sort_values\n",
    "    (by = ['frequency_rankings']).head(6)\n",
    "    )\n",
    "\n",
    "top_6\n",
    "\n"
   ]
  },
  {
   "cell_type": "markdown",
   "metadata": {},
   "source": [
    "#### The top 6 brands are very close to each other in mean mileage. The standouts are 'mercedes_benz' and 'bmw' for breaking the 130,000 km mark and 'ford' for being the lowest with 123,495 km. What is most interesting is that the mean mileage has no meaningful relationship on the price because pricey and cheaper cars have high odometer values. Nevertheless, the mileage was a way to gauge some of that 'new-ness' any product can retain if they are not used too much, which was definitely not the case here. Their mean age validates this, as they are potentially anywhere from 12 to 14 years old."
   ]
  },
  {
   "cell_type": "markdown",
   "metadata": {},
   "source": [
    "### For future reference: additional notes on potential cleaning of columns"
   ]
  },
  {
   "cell_type": "markdown",
   "metadata": {},
   "source": [
    "#### If the data were to be cleaned further for other types of analyses, here are some patterns identified in some columns to facilitate the process."
   ]
  },
  {
   "cell_type": "markdown",
   "metadata": {},
   "source": [
    "### The One-Value Columns"
   ]
  },
  {
   "cell_type": "code",
   "execution_count": 52,
   "metadata": {
    "collapsed": false
   },
   "outputs": [
    {
     "name": "stdout",
     "output_type": "stream",
     "text": [
      "privat    43324\n",
      "Name: seller, dtype: int64\n"
     ]
    },
    {
     "data": {
      "text/plain": [
       "dtype('O')"
      ]
     },
     "execution_count": 52,
     "metadata": {},
     "output_type": "execute_result"
    }
   ],
   "source": [
    "#These are the columns with predominantly one value.\n",
    "print(autos[\"seller\"]\n",
    " .value_counts(dropna=False)\n",
    " .head()\n",
    ")\n",
    "\n",
    "autos[\"seller\"].dtype"
   ]
  },
  {
   "cell_type": "code",
   "execution_count": 53,
   "metadata": {
    "collapsed": false
   },
   "outputs": [
    {
     "name": "stdout",
     "output_type": "stream",
     "text": [
      "Angebot    43324\n",
      "Name: offer_type, dtype: int64\n"
     ]
    },
    {
     "data": {
      "text/plain": [
       "dtype('O')"
      ]
     },
     "execution_count": 53,
     "metadata": {},
     "output_type": "execute_result"
    }
   ],
   "source": [
    "print(autos[\"offer_type\"]\n",
    " .value_counts(dropna=False)\n",
    " .head()\n",
    ")\n",
    "\n",
    "autos[\"offer_type\"].dtype"
   ]
  },
  {
   "cell_type": "code",
   "execution_count": 54,
   "metadata": {
    "collapsed": false
   },
   "outputs": [
    {
     "name": "stdout",
     "output_type": "stream",
     "text": [
      "0    43324\n",
      "Name: nr_of_pictures, dtype: int64\n"
     ]
    },
    {
     "data": {
      "text/plain": [
       "dtype('int64')"
      ]
     },
     "execution_count": 54,
     "metadata": {},
     "output_type": "execute_result"
    }
   ],
   "source": [
    "#No number of pictures indicates loss of data.\n",
    "print(autos[\"nr_of_pictures\"]\n",
    " .value_counts(dropna=False)\n",
    " .head()\n",
    ")\n",
    "\n",
    "autos[\"nr_of_pictures\"].dtype"
   ]
  },
  {
   "cell_type": "markdown",
   "metadata": {
    "collapsed": true
   },
   "source": [
    "#### These columns, \"seller\" and \"offer type\" in particular, have predominantly one value and can be removed from the dataframe. Similarly, \"nr_of_pictures\" essentially has no data whatsoever and should also be removed. "
   ]
  },
  {
   "cell_type": "markdown",
   "metadata": {},
   "source": [
    "### Columns with String Data"
   ]
  },
  {
   "cell_type": "code",
   "execution_count": 55,
   "metadata": {
    "collapsed": false,
    "scrolled": false
   },
   "outputs": [
    {
     "name": "stdout",
     "output_type": "stream",
     "text": [
      "NaNs in: \n",
      "\n",
      "unrepaired_damage  :  6766\n",
      "postal_code  :  0\n",
      "name  :  0\n",
      "vehicle_type  :  1902\n",
      "gearbox  :  1603\n",
      "model  :  1817\n",
      "fuel_type  :  2529\n",
      "brand  :  0\n",
      "\n",
      "\n",
      "Columns with 0 as data : \n",
      "\n",
      "unrepaired_damage  :  0\n",
      "postal_code  :  0\n",
      "name  :  0\n",
      "vehicle_type  :  0\n",
      "gearbox  :  0\n",
      "model  :  0\n",
      "fuel_type  :  0\n",
      "brand  :  0\n"
     ]
    }
   ],
   "source": [
    "#Verifying the rest to see if they are null or equal 0\n",
    "\n",
    "\n",
    "remaining_col = ['unrepaired_damage',\n",
    "                 'postal_code', 'name', 'vehicle_type',\n",
    "                 'gearbox', 'model', 'fuel_type', 'brand']\n",
    "\n",
    "print('NaNs in:','\\n')\n",
    "\n",
    "for col_name in remaining_col:\n",
    "    \n",
    "    print(col_name, ' : ',autos[col_name].isna().sum())\n",
    "\n",
    "print('\\n')\n",
    "\n",
    "print('Columns with 0 as data :', '\\n')\n",
    "\n",
    "for col_name in remaining_col: \n",
    "    \n",
    "    #Split these into two loops for \n",
    "    #readability of results\n",
    "    \n",
    "    \n",
    "    print(col_name,' : ',\n",
    "          (autos.loc[autos[col_name] == 0,col_name])\n",
    "          .count())\n",
    "                    \n",
    "\n",
    "    \n",
    "#The reasoning for using 0 is because some data, when \n",
    "#missing tends to be left empty or filled with a 0.\n",
    "#Theoretically, text values should not be 0, which\n",
    "#is something that can be validated."
   ]
  },
  {
   "cell_type": "markdown",
   "metadata": {
    "collapsed": false
   },
   "source": [
    "#### There are numerous instances of no data in \"unrepaired_damage\", \"vehicle_type\", \"gearbox\", \"model\" and \"fuel_type\". Depending on future analysis needs, they may need to be cleaned. Columns with a predominant number of strings that have not been singled out have no issue worth mentioning."
   ]
  },
  {
   "cell_type": "markdown",
   "metadata": {},
   "source": [
    "### Registration month and PowerPS"
   ]
  },
  {
   "cell_type": "code",
   "execution_count": 56,
   "metadata": {
    "collapsed": false
   },
   "outputs": [
    {
     "name": "stdout",
     "output_type": "stream",
     "text": [
      "3    4543\n",
      "6    3901\n",
      "4    3671\n",
      "5    3669\n",
      "7    3531\n",
      "Name: registration_month, dtype: int64\n",
      "\n",
      " False    43324\n",
      "Name: registration_month, dtype: int64 \n",
      "\n"
     ]
    },
    {
     "data": {
      "text/plain": [
       "dtype('int64')"
      ]
     },
     "execution_count": 56,
     "metadata": {},
     "output_type": "execute_result"
    }
   ],
   "source": [
    "#This column has a zero month.\n",
    "print(autos[\"registration_month\"]\n",
    " .value_counts(dropna=False)\n",
    " .head()\n",
    ")\n",
    "\n",
    "print('\\n',autos[\"registration_month\"]\n",
    "      .isnull()\n",
    "      .value_counts(),\n",
    "      '\\n'\n",
    "     )\n",
    "\n",
    "autos[\"registration_month\"].dtype"
   ]
  },
  {
   "cell_type": "markdown",
   "metadata": {},
   "source": [
    "#### Although there are no blank records,  \"registration month\" has 5,075 ocurrences of a month of \"0\".  This could be an impedance to any month based analysis."
   ]
  },
  {
   "cell_type": "code",
   "execution_count": 57,
   "metadata": {
    "collapsed": false
   },
   "outputs": [
    {
     "name": "stdout",
     "output_type": "stream",
     "text": [
      "0      3506\n",
      "75     2609\n",
      "150    1874\n",
      "140    1795\n",
      "60     1637\n",
      "Name: powerPS, dtype: int64\n"
     ]
    },
    {
     "data": {
      "text/plain": [
       "dtype('int64')"
      ]
     },
     "execution_count": 57,
     "metadata": {},
     "output_type": "execute_result"
    }
   ],
   "source": [
    "#A powerPS of 0 could be unlikely.\n",
    "print(autos[\"powerPS\"]\n",
    " .value_counts(dropna=False)\n",
    " .head()\n",
    ")\n",
    "\n",
    "autos[\"powerPS\"].dtype"
   ]
  },
  {
   "cell_type": "markdown",
   "metadata": {},
   "source": [
    "#### It is potentially unlikely that a working car has a horsepower of 0, so this may present hurdles to any analysis that may include this column. "
   ]
  },
  {
   "cell_type": "markdown",
   "metadata": {},
   "source": [
    "## <center> Conclusion <center>\n"
   ]
  },
  {
   "cell_type": "markdown",
   "metadata": {},
   "source": [
    "#### The objectives were to identify the timeframe for the cars sold, their overall registration year distribution,  the most frequent brands, and isolate the top 6 of these with their price and mileage. The cars were sold from 2015 to April 2016, the date in which the data retrieval ended. During this timeframe, the cars were sold at a higher frequency during March 2016 and particularly peaked at April 6th, then the 7th and 5th of the same year. The overall registration year for the cars indicates that 25% of the used cars are equal to or older than 1999, while 58% are from the 2000s, and the remaining vehicles are from 2010 to 2016. As for the car brands, the most recurring brands were \"volkswagen\" (the highest), \"bmw\", \"mercedes_benz\", \"opel\", \"audi\", \"ford\". These top 6 brands totaled over 60% of the used car pool. Lastly, the car's mileage was moderately high, and the mean age ranged from 12 to 14 years old, but the prices were much more telling about the behavior of the top brands. The low end was occupied by the \"opel\"at 3,394. The high end was near the 10,000 euro mark with the \"audi\", \"bmw\", and \"mercedez_benz\", while the much more frequent \"volkswagen\" at a mean of 6,000 euros. Despite having cheaper and moderately expensive cars, the overall pricing was expensive. This is especially more compelling when one considers speculating on the original pricing of these cars. If they were selling at a theoretical 30,000 euros each, this would potentially mean used cars of said brands would be selling from 10% to 20% of their original price on the low end and 33%. Lastly, said speculation isn't even accounting for the effects of inflation over time, so these findings could lead to further analytic inquiries if necessary.\n"
   ]
  },
  {
   "cell_type": "code",
   "execution_count": null,
   "metadata": {
    "collapsed": false
   },
   "outputs": [],
   "source": []
  }
 ],
 "metadata": {
  "kernelspec": {
   "display_name": "Python 3",
   "language": "python",
   "name": "python3"
  },
  "language_info": {
   "codemirror_mode": {
    "name": "ipython",
    "version": 3
   },
   "file_extension": ".py",
   "mimetype": "text/x-python",
   "name": "python",
   "nbconvert_exporter": "python",
   "pygments_lexer": "ipython3",
   "version": "3.4.3"
  }
 },
 "nbformat": 4,
 "nbformat_minor": 2
}
